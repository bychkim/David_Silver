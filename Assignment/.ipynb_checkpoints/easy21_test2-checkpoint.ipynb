{
 "cells": [
  {
   "cell_type": "code",
   "execution_count": 124,
   "metadata": {},
   "outputs": [],
   "source": [
    "import sys\n",
    "import random\n",
    "import numpy as np\n",
    "import matplotlib.pyplot as plt\n",
    "import matplotlib as mpl\n",
    "from mpl_toolkits.mplot3d import Axes3D\n",
    "from matplotlib import cm"
   ]
  },
  {
   "cell_type": "code",
   "execution_count": 2,
   "metadata": {},
   "outputs": [],
   "source": [
    "state_dict = {}"
   ]
  },
  {
   "cell_type": "code",
   "execution_count": 3,
   "metadata": {},
   "outputs": [],
   "source": [
    "state_dict[(1, 1)] = 0"
   ]
  },
  {
   "cell_type": "code",
   "execution_count": 5,
   "metadata": {},
   "outputs": [],
   "source": [
    "state_dict[(1, 12)] = 0"
   ]
  },
  {
   "cell_type": "code",
   "execution_count": 6,
   "metadata": {},
   "outputs": [
    {
     "data": {
      "text/plain": [
       "{(1, 1): 0, (1, 12): 0}"
      ]
     },
     "execution_count": 6,
     "metadata": {},
     "output_type": "execute_result"
    }
   ],
   "source": [
    "state_dict"
   ]
  },
  {
   "cell_type": "code",
   "execution_count": 23,
   "metadata": {},
   "outputs": [],
   "source": [
    "state_keys = state_dict.keys()"
   ]
  },
  {
   "cell_type": "code",
   "execution_count": 25,
   "metadata": {},
   "outputs": [
    {
     "data": {
      "text/plain": [
       "dict_keys"
      ]
     },
     "execution_count": 25,
     "metadata": {},
     "output_type": "execute_result"
    }
   ],
   "source": [
    "type(state_keys)"
   ]
  },
  {
   "cell_type": "code",
   "execution_count": 28,
   "metadata": {},
   "outputs": [
    {
     "data": {
      "text/plain": [
       "True"
      ]
     },
     "execution_count": 28,
     "metadata": {},
     "output_type": "execute_result"
    }
   ],
   "source": [
    "(1, 1) in state_keys"
   ]
  },
  {
   "cell_type": "code",
   "execution_count": 29,
   "metadata": {},
   "outputs": [],
   "source": [
    "state_values = {}"
   ]
  },
  {
   "cell_type": "code",
   "execution_count": 33,
   "metadata": {},
   "outputs": [],
   "source": [
    "for dealer_card in range(1, 11):\n",
    "    for player_total in range(1, 22):\n",
    "        state_values[(dealer_card, player_total)] = [0, 0] # state-value, count "
   ]
  },
  {
   "cell_type": "code",
   "execution_count": 34,
   "metadata": {},
   "outputs": [
    {
     "data": {
      "text/plain": [
       "{(1, 1): [0, 0],\n",
       " (1, 2): [0, 0],\n",
       " (1, 3): [0, 0],\n",
       " (1, 4): [0, 0],\n",
       " (1, 5): [0, 0],\n",
       " (1, 6): [0, 0],\n",
       " (1, 7): [0, 0],\n",
       " (1, 8): [0, 0],\n",
       " (1, 9): [0, 0],\n",
       " (1, 10): [0, 0],\n",
       " (1, 11): [0, 0],\n",
       " (1, 12): [0, 0],\n",
       " (1, 13): [0, 0],\n",
       " (1, 14): [0, 0],\n",
       " (1, 15): [0, 0],\n",
       " (1, 16): [0, 0],\n",
       " (1, 17): [0, 0],\n",
       " (1, 18): [0, 0],\n",
       " (1, 19): [0, 0],\n",
       " (1, 20): [0, 0],\n",
       " (1, 21): [0, 0],\n",
       " (2, 1): [0, 0],\n",
       " (2, 2): [0, 0],\n",
       " (2, 3): [0, 0],\n",
       " (2, 4): [0, 0],\n",
       " (2, 5): [0, 0],\n",
       " (2, 6): [0, 0],\n",
       " (2, 7): [0, 0],\n",
       " (2, 8): [0, 0],\n",
       " (2, 9): [0, 0],\n",
       " (2, 10): [0, 0],\n",
       " (2, 11): [0, 0],\n",
       " (2, 12): [0, 0],\n",
       " (2, 13): [0, 0],\n",
       " (2, 14): [0, 0],\n",
       " (2, 15): [0, 0],\n",
       " (2, 16): [0, 0],\n",
       " (2, 17): [0, 0],\n",
       " (2, 18): [0, 0],\n",
       " (2, 19): [0, 0],\n",
       " (2, 20): [0, 0],\n",
       " (2, 21): [0, 0],\n",
       " (3, 1): [0, 0],\n",
       " (3, 2): [0, 0],\n",
       " (3, 3): [0, 0],\n",
       " (3, 4): [0, 0],\n",
       " (3, 5): [0, 0],\n",
       " (3, 6): [0, 0],\n",
       " (3, 7): [0, 0],\n",
       " (3, 8): [0, 0],\n",
       " (3, 9): [0, 0],\n",
       " (3, 10): [0, 0],\n",
       " (3, 11): [0, 0],\n",
       " (3, 12): [0, 0],\n",
       " (3, 13): [0, 0],\n",
       " (3, 14): [0, 0],\n",
       " (3, 15): [0, 0],\n",
       " (3, 16): [0, 0],\n",
       " (3, 17): [0, 0],\n",
       " (3, 18): [0, 0],\n",
       " (3, 19): [0, 0],\n",
       " (3, 20): [0, 0],\n",
       " (3, 21): [0, 0],\n",
       " (4, 1): [0, 0],\n",
       " (4, 2): [0, 0],\n",
       " (4, 3): [0, 0],\n",
       " (4, 4): [0, 0],\n",
       " (4, 5): [0, 0],\n",
       " (4, 6): [0, 0],\n",
       " (4, 7): [0, 0],\n",
       " (4, 8): [0, 0],\n",
       " (4, 9): [0, 0],\n",
       " (4, 10): [0, 0],\n",
       " (4, 11): [0, 0],\n",
       " (4, 12): [0, 0],\n",
       " (4, 13): [0, 0],\n",
       " (4, 14): [0, 0],\n",
       " (4, 15): [0, 0],\n",
       " (4, 16): [0, 0],\n",
       " (4, 17): [0, 0],\n",
       " (4, 18): [0, 0],\n",
       " (4, 19): [0, 0],\n",
       " (4, 20): [0, 0],\n",
       " (4, 21): [0, 0],\n",
       " (5, 1): [0, 0],\n",
       " (5, 2): [0, 0],\n",
       " (5, 3): [0, 0],\n",
       " (5, 4): [0, 0],\n",
       " (5, 5): [0, 0],\n",
       " (5, 6): [0, 0],\n",
       " (5, 7): [0, 0],\n",
       " (5, 8): [0, 0],\n",
       " (5, 9): [0, 0],\n",
       " (5, 10): [0, 0],\n",
       " (5, 11): [0, 0],\n",
       " (5, 12): [0, 0],\n",
       " (5, 13): [0, 0],\n",
       " (5, 14): [0, 0],\n",
       " (5, 15): [0, 0],\n",
       " (5, 16): [0, 0],\n",
       " (5, 17): [0, 0],\n",
       " (5, 18): [0, 0],\n",
       " (5, 19): [0, 0],\n",
       " (5, 20): [0, 0],\n",
       " (5, 21): [0, 0],\n",
       " (6, 1): [0, 0],\n",
       " (6, 2): [0, 0],\n",
       " (6, 3): [0, 0],\n",
       " (6, 4): [0, 0],\n",
       " (6, 5): [0, 0],\n",
       " (6, 6): [0, 0],\n",
       " (6, 7): [0, 0],\n",
       " (6, 8): [0, 0],\n",
       " (6, 9): [0, 0],\n",
       " (6, 10): [0, 0],\n",
       " (6, 11): [0, 0],\n",
       " (6, 12): [0, 0],\n",
       " (6, 13): [0, 0],\n",
       " (6, 14): [0, 0],\n",
       " (6, 15): [0, 0],\n",
       " (6, 16): [0, 0],\n",
       " (6, 17): [0, 0],\n",
       " (6, 18): [0, 0],\n",
       " (6, 19): [0, 0],\n",
       " (6, 20): [0, 0],\n",
       " (6, 21): [0, 0],\n",
       " (7, 1): [0, 0],\n",
       " (7, 2): [0, 0],\n",
       " (7, 3): [0, 0],\n",
       " (7, 4): [0, 0],\n",
       " (7, 5): [0, 0],\n",
       " (7, 6): [0, 0],\n",
       " (7, 7): [0, 0],\n",
       " (7, 8): [0, 0],\n",
       " (7, 9): [0, 0],\n",
       " (7, 10): [0, 0],\n",
       " (7, 11): [0, 0],\n",
       " (7, 12): [0, 0],\n",
       " (7, 13): [0, 0],\n",
       " (7, 14): [0, 0],\n",
       " (7, 15): [0, 0],\n",
       " (7, 16): [0, 0],\n",
       " (7, 17): [0, 0],\n",
       " (7, 18): [0, 0],\n",
       " (7, 19): [0, 0],\n",
       " (7, 20): [0, 0],\n",
       " (7, 21): [0, 0],\n",
       " (8, 1): [0, 0],\n",
       " (8, 2): [0, 0],\n",
       " (8, 3): [0, 0],\n",
       " (8, 4): [0, 0],\n",
       " (8, 5): [0, 0],\n",
       " (8, 6): [0, 0],\n",
       " (8, 7): [0, 0],\n",
       " (8, 8): [0, 0],\n",
       " (8, 9): [0, 0],\n",
       " (8, 10): [0, 0],\n",
       " (8, 11): [0, 0],\n",
       " (8, 12): [0, 0],\n",
       " (8, 13): [0, 0],\n",
       " (8, 14): [0, 0],\n",
       " (8, 15): [0, 0],\n",
       " (8, 16): [0, 0],\n",
       " (8, 17): [0, 0],\n",
       " (8, 18): [0, 0],\n",
       " (8, 19): [0, 0],\n",
       " (8, 20): [0, 0],\n",
       " (8, 21): [0, 0],\n",
       " (9, 1): [0, 0],\n",
       " (9, 2): [0, 0],\n",
       " (9, 3): [0, 0],\n",
       " (9, 4): [0, 0],\n",
       " (9, 5): [0, 0],\n",
       " (9, 6): [0, 0],\n",
       " (9, 7): [0, 0],\n",
       " (9, 8): [0, 0],\n",
       " (9, 9): [0, 0],\n",
       " (9, 10): [0, 0],\n",
       " (9, 11): [0, 0],\n",
       " (9, 12): [0, 0],\n",
       " (9, 13): [0, 0],\n",
       " (9, 14): [0, 0],\n",
       " (9, 15): [0, 0],\n",
       " (9, 16): [0, 0],\n",
       " (9, 17): [0, 0],\n",
       " (9, 18): [0, 0],\n",
       " (9, 19): [0, 0],\n",
       " (9, 20): [0, 0],\n",
       " (9, 21): [0, 0],\n",
       " (10, 1): [0, 0],\n",
       " (10, 2): [0, 0],\n",
       " (10, 3): [0, 0],\n",
       " (10, 4): [0, 0],\n",
       " (10, 5): [0, 0],\n",
       " (10, 6): [0, 0],\n",
       " (10, 7): [0, 0],\n",
       " (10, 8): [0, 0],\n",
       " (10, 9): [0, 0],\n",
       " (10, 10): [0, 0],\n",
       " (10, 11): [0, 0],\n",
       " (10, 12): [0, 0],\n",
       " (10, 13): [0, 0],\n",
       " (10, 14): [0, 0],\n",
       " (10, 15): [0, 0],\n",
       " (10, 16): [0, 0],\n",
       " (10, 17): [0, 0],\n",
       " (10, 18): [0, 0],\n",
       " (10, 19): [0, 0],\n",
       " (10, 20): [0, 0],\n",
       " (10, 21): [0, 0]}"
      ]
     },
     "execution_count": 34,
     "metadata": {},
     "output_type": "execute_result"
    }
   ],
   "source": [
    "state_values"
   ]
  },
  {
   "cell_type": "code",
   "execution_count": 46,
   "metadata": {},
   "outputs": [],
   "source": [
    "class Easy21(object):\n",
    "    \n",
    "    #self, win, lose, draw, rate\n",
    "    class Easy21State(object):\n",
    "        def __init__(self):\n",
    "            self.count = 0\n",
    "            self.hit_count = 0\n",
    "            self.stick_count = 0\n",
    "            self.state_value = 0\n",
    "            self.action_value = 0\n",
    "    \n",
    "    def __init__(self):\n",
    "        #self.win = 0\n",
    "        #self.lose = 0\n",
    "        #self.draw = 0\n",
    "        self.state = self.Easy21State()\n",
    "        #self.state = {}\n"
   ]
  },
  {
   "cell_type": "code",
   "execution_count": 41,
   "metadata": {},
   "outputs": [],
   "source": [
    "tester = Easy21()"
   ]
  },
  {
   "cell_type": "code",
   "execution_count": 43,
   "metadata": {},
   "outputs": [
    {
     "data": {
      "text/plain": [
       "<__main__.Easy21.Easy21State at 0x10a82f978>"
      ]
     },
     "execution_count": 43,
     "metadata": {},
     "output_type": "execute_result"
    }
   ],
   "source": [
    "tester.state"
   ]
  },
  {
   "cell_type": "code",
   "execution_count": 44,
   "metadata": {},
   "outputs": [],
   "source": [
    "test_state_class = {}"
   ]
  },
  {
   "cell_type": "code",
   "execution_count": 52,
   "metadata": {},
   "outputs": [],
   "source": [
    "test_state_class[(1, 1)] = Easy21().Easy21State()"
   ]
  },
  {
   "cell_type": "code",
   "execution_count": 53,
   "metadata": {},
   "outputs": [
    {
     "data": {
      "text/plain": [
       "{(1, 1): <__main__.Easy21.Easy21State at 0x10a842eb8>}"
      ]
     },
     "execution_count": 53,
     "metadata": {},
     "output_type": "execute_result"
    }
   ],
   "source": [
    "test_state_class"
   ]
  },
  {
   "cell_type": "code",
   "execution_count": 54,
   "metadata": {},
   "outputs": [
    {
     "data": {
      "text/plain": [
       "0"
      ]
     },
     "execution_count": 54,
     "metadata": {},
     "output_type": "execute_result"
    }
   ],
   "source": [
    "test_state_class[(1, 1)].count"
   ]
  },
  {
   "cell_type": "code",
   "execution_count": 56,
   "metadata": {},
   "outputs": [],
   "source": [
    "test_state_class[(1, 2)] = Easy21()"
   ]
  },
  {
   "cell_type": "code",
   "execution_count": 58,
   "metadata": {},
   "outputs": [
    {
     "data": {
      "text/plain": [
       "0"
      ]
     },
     "execution_count": 58,
     "metadata": {},
     "output_type": "execute_result"
    }
   ],
   "source": [
    "test_state_class[(1, 2)].state.count"
   ]
  },
  {
   "cell_type": "markdown",
   "metadata": {},
   "source": [
    "OK!!\n",
    "\n",
    "- state를 ( , ) tuple 형태로 구분하면서, key값 역할을 하면서 value에는 class로 줘서 class 안에서 각각의 정보를 처리할 수 있음\n",
    "\n",
    "- user의 정보를 관리하는 class랑 학습할 때 state는 따로 관리하면 될 듯\n",
    "\n",
    "- step을 이용한다면, tuple 형태의 state에서 카드를 받아서 변화가 일어나면 변화된 state의 tuple을 return해야 함.\n",
    "\n",
    "- key값을 접근해서 연산가능?\n",
    "\n"
   ]
  },
  {
   "cell_type": "code",
   "execution_count": 59,
   "metadata": {},
   "outputs": [
    {
     "data": {
      "text/plain": [
       "{(1, 1): <__main__.Easy21.Easy21State at 0x10a842eb8>,\n",
       " (1, 2): <__main__.Easy21 at 0x10a8375f8>}"
      ]
     },
     "execution_count": 59,
     "metadata": {},
     "output_type": "execute_result"
    }
   ],
   "source": [
    "test_state_class"
   ]
  },
  {
   "cell_type": "code",
   "execution_count": 61,
   "metadata": {},
   "outputs": [
    {
     "data": {
      "text/plain": [
       "dict_keys([(1, 1), (1, 2)])"
      ]
     },
     "execution_count": 61,
     "metadata": {},
     "output_type": "execute_result"
    }
   ],
   "source": [
    "test_state_class.keys()"
   ]
  },
  {
   "cell_type": "markdown",
   "metadata": {},
   "source": [
    "- dict 안에 key가 tuple로 주어진 경우, key 각각에 접근하는 방법은? \n",
    "\n",
    "- dict는 순서가 없다는 것을 주의..\n"
   ]
  },
  {
   "cell_type": "code",
   "execution_count": 62,
   "metadata": {},
   "outputs": [
    {
     "data": {
      "text/plain": [
       "1"
      ]
     },
     "execution_count": 62,
     "metadata": {},
     "output_type": "execute_result"
    }
   ],
   "source": [
    "(1, 1)[0]"
   ]
  },
  {
   "cell_type": "code",
   "execution_count": 63,
   "metadata": {},
   "outputs": [
    {
     "data": {
      "text/plain": [
       "(8, 1)"
      ]
     },
     "execution_count": 63,
     "metadata": {},
     "output_type": "execute_result"
    }
   ],
   "source": [
    "((1, 1)[0] + 7, (1, 1)[1])"
   ]
  },
  {
   "cell_type": "markdown",
   "metadata": {},
   "source": [
    "OK!!\n",
    "\n",
    "- 어짜피 step에서 input 값이 tuple 형태로 들어오니, 각 tuple에서 원소 별로 접근해서 연산하면 될 듯!!\n"
   ]
  },
  {
   "cell_type": "code",
   "execution_count": 66,
   "metadata": {},
   "outputs": [],
   "source": [
    "class State(object):\n",
    "    def __init__(self):\n",
    "        self.count = 0\n",
    "        self.hit_count = 0\n",
    "        self.stick_count = 0\n",
    "        self.state_value = 0\n",
    "        self.action_value = 0"
   ]
  },
  {
   "cell_type": "code",
   "execution_count": 67,
   "metadata": {},
   "outputs": [],
   "source": [
    "state_dict = {}"
   ]
  },
  {
   "cell_type": "code",
   "execution_count": 72,
   "metadata": {},
   "outputs": [],
   "source": [
    "for dealer_card in range(1, 11):\n",
    "    for player_total in range(1, 22):\n",
    "        state_dict[(dealer_card, player_total)] = State()"
   ]
  },
  {
   "cell_type": "code",
   "execution_count": 73,
   "metadata": {},
   "outputs": [
    {
     "data": {
      "text/plain": [
       "{(1, 1): <__main__.State at 0x10a82f7b8>,\n",
       " (1, 2): <__main__.State at 0x10a837e80>,\n",
       " (1, 3): <__main__.State at 0x10a8379e8>,\n",
       " (1, 4): <__main__.State at 0x10a837978>,\n",
       " (1, 5): <__main__.State at 0x10a837eb8>,\n",
       " (1, 6): <__main__.State at 0x10a837240>,\n",
       " (1, 7): <__main__.State at 0x10a837630>,\n",
       " (1, 8): <__main__.State at 0x10a837518>,\n",
       " (1, 9): <__main__.State at 0x10a8373c8>,\n",
       " (1, 10): <__main__.State at 0x10a837390>,\n",
       " (1, 11): <__main__.State at 0x10a837da0>,\n",
       " (1, 12): <__main__.State at 0x10a837b38>,\n",
       " (1, 13): <__main__.State at 0x10a81a588>,\n",
       " (1, 14): <__main__.State at 0x10a81a400>,\n",
       " (1, 15): <__main__.State at 0x10a81a358>,\n",
       " (1, 16): <__main__.State at 0x10a81a128>,\n",
       " (1, 17): <__main__.State at 0x10a81a198>,\n",
       " (1, 18): <__main__.State at 0x10a81a470>,\n",
       " (1, 19): <__main__.State at 0x10a81a1d0>,\n",
       " (1, 20): <__main__.State at 0x10a81a4a8>,\n",
       " (1, 21): <__main__.State at 0x10a81a0b8>,\n",
       " (2, 1): <__main__.State at 0x10a81a048>,\n",
       " (2, 2): <__main__.State at 0x10a81a518>,\n",
       " (2, 3): <__main__.State at 0x10a81a5c0>,\n",
       " (2, 4): <__main__.State at 0x10a81a080>,\n",
       " (2, 5): <__main__.State at 0x10a81a160>,\n",
       " (2, 6): <__main__.State at 0x10a889438>,\n",
       " (2, 7): <__main__.State at 0x10a8894e0>,\n",
       " (2, 8): <__main__.State at 0x10a8896a0>,\n",
       " (2, 9): <__main__.State at 0x10a889550>,\n",
       " (2, 10): <__main__.State at 0x10a8895f8>,\n",
       " (2, 11): <__main__.State at 0x10a889470>,\n",
       " (2, 12): <__main__.State at 0x10a8896d8>,\n",
       " (2, 13): <__main__.State at 0x10a889630>,\n",
       " (2, 14): <__main__.State at 0x10a8894a8>,\n",
       " (2, 15): <__main__.State at 0x10a889518>,\n",
       " (2, 16): <__main__.State at 0x10a889fd0>,\n",
       " (2, 17): <__main__.State at 0x10a889c18>,\n",
       " (2, 18): <__main__.State at 0x10a889da0>,\n",
       " (2, 19): <__main__.State at 0x10a8895c0>,\n",
       " (2, 20): <__main__.State at 0x10a889588>,\n",
       " (2, 21): <__main__.State at 0x10a889400>,\n",
       " (3, 1): <__main__.State at 0x10a889710>,\n",
       " (3, 2): <__main__.State at 0x10a889780>,\n",
       " (3, 3): <__main__.State at 0x10a889748>,\n",
       " (3, 4): <__main__.State at 0x10a896e10>,\n",
       " (3, 5): <__main__.State at 0x10a896c88>,\n",
       " (3, 6): <__main__.State at 0x10a8969b0>,\n",
       " (3, 7): <__main__.State at 0x10a896fd0>,\n",
       " (3, 8): <__main__.State at 0x10a896da0>,\n",
       " (3, 9): <__main__.State at 0x10a896be0>,\n",
       " (3, 10): <__main__.State at 0x10a896e48>,\n",
       " (3, 11): <__main__.State at 0x10a896a90>,\n",
       " (3, 12): <__main__.State at 0x10a896ef0>,\n",
       " (3, 13): <__main__.State at 0x10a8964e0>,\n",
       " (3, 14): <__main__.State at 0x10a896f98>,\n",
       " (3, 15): <__main__.State at 0x10a896e80>,\n",
       " (3, 16): <__main__.State at 0x10a896b00>,\n",
       " (3, 17): <__main__.State at 0x10a8969e8>,\n",
       " (3, 18): <__main__.State at 0x10a818a58>,\n",
       " (3, 19): <__main__.State at 0x10a818f98>,\n",
       " (3, 20): <__main__.State at 0x10a818fd0>,\n",
       " (3, 21): <__main__.State at 0x10a818c50>,\n",
       " (4, 1): <__main__.State at 0x10a818f60>,\n",
       " (4, 2): <__main__.State at 0x10a818d30>,\n",
       " (4, 3): <__main__.State at 0x10a818c18>,\n",
       " (4, 4): <__main__.State at 0x10a818ba8>,\n",
       " (4, 5): <__main__.State at 0x10a818da0>,\n",
       " (4, 6): <__main__.State at 0x10a818d68>,\n",
       " (4, 7): <__main__.State at 0x10a818cf8>,\n",
       " (4, 8): <__main__.State at 0x10a818978>,\n",
       " (4, 9): <__main__.State at 0x10a818c88>,\n",
       " (4, 10): <__main__.State at 0x10a8188d0>,\n",
       " (4, 11): <__main__.State at 0x10a818940>,\n",
       " (4, 12): <__main__.State at 0x10a818ac8>,\n",
       " (4, 13): <__main__.State at 0x10a818a90>,\n",
       " (4, 14): <__main__.State at 0x10a818cc0>,\n",
       " (4, 15): <__main__.State at 0x10a8189e8>,\n",
       " (4, 16): <__main__.State at 0x10a8189b0>,\n",
       " (4, 17): <__main__.State at 0x10a818898>,\n",
       " (4, 18): <__main__.State at 0x10a818dd8>,\n",
       " (4, 19): <__main__.State at 0x10a818908>,\n",
       " (4, 20): <__main__.State at 0x10a818b00>,\n",
       " (4, 21): <__main__.State at 0x10a818a20>,\n",
       " (5, 1): <__main__.State at 0x10a792898>,\n",
       " (5, 2): <__main__.State at 0x10a792400>,\n",
       " (5, 3): <__main__.State at 0x10a792630>,\n",
       " (5, 4): <__main__.State at 0x10a792518>,\n",
       " (5, 5): <__main__.State at 0x10a7922e8>,\n",
       " (5, 6): <__main__.State at 0x10a792390>,\n",
       " (5, 7): <__main__.State at 0x10a792e48>,\n",
       " (5, 8): <__main__.State at 0x10a7927f0>,\n",
       " (5, 9): <__main__.State at 0x10a792a90>,\n",
       " (5, 10): <__main__.State at 0x10a792860>,\n",
       " (5, 11): <__main__.State at 0x10a792b70>,\n",
       " (5, 12): <__main__.State at 0x10a792c18>,\n",
       " (5, 13): <__main__.State at 0x10a7924a8>,\n",
       " (5, 14): <__main__.State at 0x10a7929b0>,\n",
       " (5, 15): <__main__.State at 0x10a792e80>,\n",
       " (5, 16): <__main__.State at 0x10a792940>,\n",
       " (5, 17): <__main__.State at 0x10a792a58>,\n",
       " (5, 18): <__main__.State at 0x10a792be0>,\n",
       " (5, 19): <__main__.State at 0x10a792fd0>,\n",
       " (5, 20): <__main__.State at 0x10a7928d0>,\n",
       " (5, 21): <__main__.State at 0x10a7923c8>,\n",
       " (6, 1): <__main__.State at 0x10a792358>,\n",
       " (6, 2): <__main__.State at 0x10a792f98>,\n",
       " (6, 3): <__main__.State at 0x10a792cc0>,\n",
       " (6, 4): <__main__.State at 0x10a7927b8>,\n",
       " (6, 5): <__main__.State at 0x10a792b38>,\n",
       " (6, 6): <__main__.State at 0x10a7926a0>,\n",
       " (6, 7): <__main__.State at 0x10a792eb8>,\n",
       " (6, 8): <__main__.State at 0x10a792e10>,\n",
       " (6, 9): <__main__.State at 0x10a7925f8>,\n",
       " (6, 10): <__main__.State at 0x10a792c88>,\n",
       " (6, 11): <__main__.State at 0x10a792780>,\n",
       " (6, 12): <__main__.State at 0x10a792d30>,\n",
       " (6, 13): <__main__.State at 0x10a792dd8>,\n",
       " (6, 14): <__main__.State at 0x10a792d68>,\n",
       " (6, 15): <__main__.State at 0x10a792f60>,\n",
       " (6, 16): <__main__.State at 0x10a826240>,\n",
       " (6, 17): <__main__.State at 0x10a826128>,\n",
       " (6, 18): <__main__.State at 0x10a826080>,\n",
       " (6, 19): <__main__.State at 0x10a826400>,\n",
       " (6, 20): <__main__.State at 0x10a826278>,\n",
       " (6, 21): <__main__.State at 0x10a8261d0>,\n",
       " (7, 1): <__main__.State at 0x10a8262b0>,\n",
       " (7, 2): <__main__.State at 0x10a826630>,\n",
       " (7, 3): <__main__.State at 0x10a8262e8>,\n",
       " (7, 4): <__main__.State at 0x10a826198>,\n",
       " (7, 5): <__main__.State at 0x10a826390>,\n",
       " (7, 6): <__main__.State at 0x10a87e048>,\n",
       " (7, 7): <__main__.State at 0x10a87e080>,\n",
       " (7, 8): <__main__.State at 0x10a87e0b8>,\n",
       " (7, 9): <__main__.State at 0x10a87e0f0>,\n",
       " (7, 10): <__main__.State at 0x10a87e128>,\n",
       " (7, 11): <__main__.State at 0x10a87e160>,\n",
       " (7, 12): <__main__.State at 0x10a87e198>,\n",
       " (7, 13): <__main__.State at 0x10a87e1d0>,\n",
       " (7, 14): <__main__.State at 0x10a87e208>,\n",
       " (7, 15): <__main__.State at 0x10a87e240>,\n",
       " (7, 16): <__main__.State at 0x10a87e278>,\n",
       " (7, 17): <__main__.State at 0x10a87e2b0>,\n",
       " (7, 18): <__main__.State at 0x10a87e2e8>,\n",
       " (7, 19): <__main__.State at 0x10a87e320>,\n",
       " (7, 20): <__main__.State at 0x10a87e358>,\n",
       " (7, 21): <__main__.State at 0x10a87e390>,\n",
       " (8, 1): <__main__.State at 0x10a87e3c8>,\n",
       " (8, 2): <__main__.State at 0x10a87e400>,\n",
       " (8, 3): <__main__.State at 0x10a87e438>,\n",
       " (8, 4): <__main__.State at 0x10a87e470>,\n",
       " (8, 5): <__main__.State at 0x10a87e4a8>,\n",
       " (8, 6): <__main__.State at 0x10a87e4e0>,\n",
       " (8, 7): <__main__.State at 0x10a87e518>,\n",
       " (8, 8): <__main__.State at 0x10a87e550>,\n",
       " (8, 9): <__main__.State at 0x10a87e588>,\n",
       " (8, 10): <__main__.State at 0x10a87e5c0>,\n",
       " (8, 11): <__main__.State at 0x10a87e5f8>,\n",
       " (8, 12): <__main__.State at 0x10a87e630>,\n",
       " (8, 13): <__main__.State at 0x10a87e668>,\n",
       " (8, 14): <__main__.State at 0x10a87e6a0>,\n",
       " (8, 15): <__main__.State at 0x10a87e6d8>,\n",
       " (8, 16): <__main__.State at 0x10a87e710>,\n",
       " (8, 17): <__main__.State at 0x10a87e748>,\n",
       " (8, 18): <__main__.State at 0x10a87e780>,\n",
       " (8, 19): <__main__.State at 0x10a87e7b8>,\n",
       " (8, 20): <__main__.State at 0x10a87e7f0>,\n",
       " (8, 21): <__main__.State at 0x10a87e828>,\n",
       " (9, 1): <__main__.State at 0x10a87e860>,\n",
       " (9, 2): <__main__.State at 0x10a87e898>,\n",
       " (9, 3): <__main__.State at 0x10a87e8d0>,\n",
       " (9, 4): <__main__.State at 0x10a87e908>,\n",
       " (9, 5): <__main__.State at 0x10a87e940>,\n",
       " (9, 6): <__main__.State at 0x10a87e978>,\n",
       " (9, 7): <__main__.State at 0x10a87e9b0>,\n",
       " (9, 8): <__main__.State at 0x10a87e9e8>,\n",
       " (9, 9): <__main__.State at 0x10a87ea20>,\n",
       " (9, 10): <__main__.State at 0x10a87ea58>,\n",
       " (9, 11): <__main__.State at 0x10a87ea90>,\n",
       " (9, 12): <__main__.State at 0x10a87eac8>,\n",
       " (9, 13): <__main__.State at 0x10a87eb00>,\n",
       " (9, 14): <__main__.State at 0x10a87eb38>,\n",
       " (9, 15): <__main__.State at 0x10a87eb70>,\n",
       " (9, 16): <__main__.State at 0x10a87eba8>,\n",
       " (9, 17): <__main__.State at 0x10a87ebe0>,\n",
       " (9, 18): <__main__.State at 0x10a87ec18>,\n",
       " (9, 19): <__main__.State at 0x10a87ec50>,\n",
       " (9, 20): <__main__.State at 0x10a87ec88>,\n",
       " (9, 21): <__main__.State at 0x10a87ecc0>,\n",
       " (10, 1): <__main__.State at 0x10a87ecf8>,\n",
       " (10, 2): <__main__.State at 0x10a87ed30>,\n",
       " (10, 3): <__main__.State at 0x10a87ed68>,\n",
       " (10, 4): <__main__.State at 0x10a87eda0>,\n",
       " (10, 5): <__main__.State at 0x10a87edd8>,\n",
       " (10, 6): <__main__.State at 0x10a87ee10>,\n",
       " (10, 7): <__main__.State at 0x10a87ee48>,\n",
       " (10, 8): <__main__.State at 0x10a87ee80>,\n",
       " (10, 9): <__main__.State at 0x10a87eeb8>,\n",
       " (10, 10): <__main__.State at 0x10a87eef0>,\n",
       " (10, 11): <__main__.State at 0x10a87ef28>,\n",
       " (10, 12): <__main__.State at 0x10a87ef60>,\n",
       " (10, 13): <__main__.State at 0x10a87ef98>,\n",
       " (10, 14): <__main__.State at 0x10a87efd0>,\n",
       " (10, 15): <__main__.State at 0x10a873048>,\n",
       " (10, 16): <__main__.State at 0x10a873080>,\n",
       " (10, 17): <__main__.State at 0x10a8730b8>,\n",
       " (10, 18): <__main__.State at 0x10a8730f0>,\n",
       " (10, 19): <__main__.State at 0x10a873128>,\n",
       " (10, 20): <__main__.State at 0x10a873160>,\n",
       " (10, 21): <__main__.State at 0x10a873198>}"
      ]
     },
     "execution_count": 73,
     "metadata": {},
     "output_type": "execute_result"
    }
   ],
   "source": [
    "state_dict"
   ]
  },
  {
   "cell_type": "code",
   "execution_count": 121,
   "metadata": {},
   "outputs": [
    {
     "data": {
      "text/plain": [
       "1"
      ]
     },
     "execution_count": 121,
     "metadata": {},
     "output_type": "execute_result"
    }
   ],
   "source": [
    "state_dict[(1, 21)].count = 1\n",
    "state_dict[(1, 21)].count"
   ]
  },
  {
   "cell_type": "code",
   "execution_count": null,
   "metadata": {},
   "outputs": [],
   "source": []
  },
  {
   "cell_type": "code",
   "execution_count": null,
   "metadata": {},
   "outputs": [],
   "source": []
  },
  {
   "cell_type": "code",
   "execution_count": null,
   "metadata": {},
   "outputs": [],
   "source": []
  },
  {
   "cell_type": "code",
   "execution_count": null,
   "metadata": {},
   "outputs": [],
   "source": []
  },
  {
   "cell_type": "code",
   "execution_count": 76,
   "metadata": {},
   "outputs": [
    {
     "data": {
      "text/plain": [
       "101"
      ]
     },
     "execution_count": 76,
     "metadata": {},
     "output_type": "execute_result"
    }
   ],
   "source": [
    "(1, 100)[0] + 100 "
   ]
  },
  {
   "cell_type": "code",
   "execution_count": 83,
   "metadata": {},
   "outputs": [],
   "source": [
    "next_state = (0 , 0)"
   ]
  },
  {
   "cell_type": "code",
   "execution_count": 89,
   "metadata": {},
   "outputs": [],
   "source": [
    "state = (2, 5)"
   ]
  },
  {
   "cell_type": "code",
   "execution_count": 93,
   "metadata": {},
   "outputs": [
    {
     "data": {
      "text/plain": [
       "(2, 5)"
      ]
     },
     "execution_count": 93,
     "metadata": {},
     "output_type": "execute_result"
    }
   ],
   "source": [
    "next_state = state\n",
    "next_state"
   ]
  },
  {
   "cell_type": "code",
   "execution_count": 94,
   "metadata": {},
   "outputs": [
    {
     "data": {
      "text/plain": [
       "(10, 5)"
      ]
     },
     "execution_count": 94,
     "metadata": {},
     "output_type": "execute_result"
    }
   ],
   "source": [
    "next_state = (next_state[0]+8, next_state[1])\n",
    "next_state"
   ]
  },
  {
   "cell_type": "code",
   "execution_count": 95,
   "metadata": {},
   "outputs": [
    {
     "data": {
      "text/plain": [
       "(10, 5, 8, 0)"
      ]
     },
     "execution_count": 95,
     "metadata": {},
     "output_type": "execute_result"
    }
   ],
   "source": [
    "next_state + (8, 0) # tuple은 값을 변화 시킬 수 없다!"
   ]
  },
  {
   "cell_type": "code",
   "execution_count": 100,
   "metadata": {},
   "outputs": [
    {
     "ename": "TypeError",
     "evalue": "'tuple' object does not support item assignment",
     "output_type": "error",
     "traceback": [
      "\u001b[0;31m---------------------------------------------------------------------------\u001b[0m",
      "\u001b[0;31mTypeError\u001b[0m                                 Traceback (most recent call last)",
      "\u001b[0;32m<ipython-input-100-b1dd9a767e68>\u001b[0m in \u001b[0;36m<module>\u001b[0;34m()\u001b[0m\n\u001b[0;32m----> 1\u001b[0;31m \u001b[0mnext_state\u001b[0m\u001b[0;34m[\u001b[0m\u001b[0;36m0\u001b[0m\u001b[0;34m]\u001b[0m \u001b[0;34m+=\u001b[0m \u001b[0;36m5\u001b[0m\u001b[0;34m\u001b[0m\u001b[0m\n\u001b[0m",
      "\u001b[0;31mTypeError\u001b[0m: 'tuple' object does not support item assignment"
     ]
    }
   ],
   "source": [
    "next_state[0] += 5"
   ]
  },
  {
   "cell_type": "code",
   "execution_count": 101,
   "metadata": {},
   "outputs": [
    {
     "ename": "SyntaxError",
     "evalue": "can't assign to function call (<ipython-input-101-74e2b0eb036c>, line 1)",
     "output_type": "error",
     "traceback": [
      "\u001b[0;36m  File \u001b[0;32m\"<ipython-input-101-74e2b0eb036c>\"\u001b[0;36m, line \u001b[0;32m1\u001b[0m\n\u001b[0;31m    next_state(0) += 5\u001b[0m\n\u001b[0m                      ^\u001b[0m\n\u001b[0;31mSyntaxError\u001b[0m\u001b[0;31m:\u001b[0m can't assign to function call\n"
     ]
    }
   ],
   "source": [
    "next_state(0) += 5"
   ]
  },
  {
   "cell_type": "code",
   "execution_count": 107,
   "metadata": {},
   "outputs": [],
   "source": [
    "def step(state, action):\n",
    "    \n",
    "    \"\"\"\n",
    "    Args:\n",
    "        state (tuple) : represent dealer_card and player_total in form of tuple (dealer_card, player_total)\n",
    "                       state - dealer's first card 1-10 and the player's sum 1-21\n",
    "        acntion (str) : 'hit' or 'stick'\n",
    "    \n",
    "    returns:\n",
    "        state (tuple) : next state determined by input action. It could be terminal\n",
    "        reward (int) : player's win +1, tie 0, lose -1\n",
    "    \"\"\"\n",
    "    \n",
    "    \n",
    "    if action == 'hit':\n",
    "        card = _draw_card()\n",
    "        \n",
    "        # update player's total \n",
    "        if card[1] == 'BLACK':\n",
    "            next_state = (state[0], state[1] + card[0])\n",
    "        elif card[1] == 'RED':\n",
    "            next_state = (state[0], state[1] - card[0])\n",
    "        \n",
    "        # calculate reward\n",
    "        if next_state[1] > 21 or next_state[1] < 1:\n",
    "            reward = -1\n",
    "        else:\n",
    "            reward = 0\n",
    "            \n",
    "    elif action == 'stick':\n",
    "        # dealer's play\n",
    "        while True:\n",
    "            card = _draw_card()\n",
    "            if card[1] == 'BLACK':\n",
    "                next_state = (state[0] + card[0], state[1])\n",
    "            elif card[1] == 'RED':\n",
    "                next_state = (state[0] - card[0], state[1])\n",
    "            \n",
    "            if next_state[0] >= 17 or next_state[0] < 1:\n",
    "                break\n",
    "            else:\n",
    "                continue\n",
    "\n",
    "        # calculate reward \n",
    "        if next_state[0] > 21 or next_state[0] < 1:\n",
    "            reward = 1\n",
    "        elif next_state[0] < next_state[1]:\n",
    "            reward = 1\n",
    "        elif next_state[0] > next_state[1]:\n",
    "            reward = -1\n",
    "        elif next_state[0] == next_state[0]:\n",
    "            reward = 0\n",
    "\n",
    "    return next_state, reward\n",
    "\n",
    "def _draw_card():\n",
    "    rand_number = random.randrange(1,11)\n",
    "    color_number = random.randrange(1,4)\n",
    "    \n",
    "    if color_number == 1:\n",
    "        color = 'RED'\n",
    "    else:\n",
    "        color = 'BLACK'\n",
    "    \n",
    "    return (rand_number, color)"
   ]
  },
  {
   "cell_type": "code",
   "execution_count": 114,
   "metadata": {},
   "outputs": [
    {
     "data": {
      "text/plain": [
       "((1, -5), -1)"
      ]
     },
     "execution_count": 114,
     "metadata": {},
     "output_type": "execute_result"
    }
   ],
   "source": [
    "result = step((1, 5), 'hit')\n",
    "result"
   ]
  },
  {
   "cell_type": "code",
   "execution_count": 115,
   "metadata": {},
   "outputs": [
    {
     "data": {
      "text/plain": [
       "(1, -1)"
      ]
     },
     "execution_count": 115,
     "metadata": {},
     "output_type": "execute_result"
    }
   ],
   "source": [
    "(next_state, reward) = step((1, 5), 'hit')\n",
    "next_state"
   ]
  },
  {
   "cell_type": "code",
   "execution_count": 116,
   "metadata": {},
   "outputs": [
    {
     "data": {
      "text/plain": [
       "-1"
      ]
     },
     "execution_count": 116,
     "metadata": {},
     "output_type": "execute_result"
    }
   ],
   "source": [
    "reward"
   ]
  },
  {
   "cell_type": "code",
   "execution_count": null,
   "metadata": {},
   "outputs": [],
   "source": []
  },
  {
   "cell_type": "code",
   "execution_count": null,
   "metadata": {},
   "outputs": [],
   "source": []
  },
  {
   "cell_type": "code",
   "execution_count": 122,
   "metadata": {},
   "outputs": [
    {
     "ename": "NameError",
     "evalue": "name 'rbinom' is not defined",
     "output_type": "error",
     "traceback": [
      "\u001b[0;31m---------------------------------------------------------------------------\u001b[0m",
      "\u001b[0;31mNameError\u001b[0m                                 Traceback (most recent call last)",
      "\u001b[0;32m<ipython-input-122-a8c15fc263d5>\u001b[0m in \u001b[0;36m<module>\u001b[0;34m()\u001b[0m\n\u001b[0;32m----> 1\u001b[0;31m \u001b[0mrbinom\u001b[0m\u001b[0;34m(\u001b[0m\u001b[0;36m5\u001b[0m\u001b[0;34m,\u001b[0m \u001b[0;36m100\u001b[0m\u001b[0;34m,\u001b[0m \u001b[0;36m0.3\u001b[0m\u001b[0;34m)\u001b[0m \u001b[0;31m# [1] 33 29 32 35 39\u001b[0m\u001b[0;34m\u001b[0m\u001b[0m\n\u001b[0m\u001b[1;32m      2\u001b[0m \u001b[0;34m\u001b[0m\u001b[0m\n",
      "\u001b[0;31mNameError\u001b[0m: name 'rbinom' is not defined"
     ]
    }
   ],
   "source": [
    "rbinom(5, 100, 0.3) # [1] 33 29 32 35 39\n",
    "\n"
   ]
  },
  {
   "cell_type": "code",
   "execution_count": null,
   "metadata": {},
   "outputs": [],
   "source": []
  },
  {
   "cell_type": "code",
   "execution_count": 151,
   "metadata": {},
   "outputs": [
    {
     "data": {
      "image/png": "[encoded data removed]",
      "text/plain": [
       "<matplotlib.figure.Figure at 0x11149c240>"
      ]
     },
     "metadata": {},
     "output_type": "display_data"
    }
   ],
   "source": [
    "X = np.arange(-4, 4, 0.25)\n",
    "Y = np.arange(-4, 4, 0.25)\n",
    "XX, YY = np.meshgrid(X, Y)\n",
    "RR = np.sqrt(XX**2 + YY**2)\n",
    "ZZ = np.sin(RR)\n",
    "\n",
    "fig = plt.figure()\n",
    "ax = Axes3D(fig)\n",
    "ax.set_title(\"3D Surface Plot\")\n",
    "ax.plot_surface(XX, YY, ZZ, rstride=1, cstride=1, cmap='hot')\n",
    "plt.show()"
   ]
  },
  {
   "cell_type": "code",
   "execution_count": 157,
   "metadata": {},
   "outputs": [
    {
     "data": {
      "text/plain": [
       "array([[-4.  , -3.75, -3.5 , ...,  3.25,  3.5 ,  3.75],\n",
       "       [-4.  , -3.75, -3.5 , ...,  3.25,  3.5 ,  3.75],\n",
       "       [-4.  , -3.75, -3.5 , ...,  3.25,  3.5 ,  3.75],\n",
       "       ...,\n",
       "       [-4.  , -3.75, -3.5 , ...,  3.25,  3.5 ,  3.75],\n",
       "       [-4.  , -3.75, -3.5 , ...,  3.25,  3.5 ,  3.75],\n",
       "       [-4.  , -3.75, -3.5 , ...,  3.25,  3.5 ,  3.75]])"
      ]
     },
     "execution_count": 157,
     "metadata": {},
     "output_type": "execute_result"
    }
   ],
   "source": [
    "XX"
   ]
  },
  {
   "cell_type": "code",
   "execution_count": 158,
   "metadata": {},
   "outputs": [
    {
     "data": {
      "text/plain": [
       "array([[-4.  , -4.  , -4.  , ..., -4.  , -4.  , -4.  ],\n",
       "       [-3.75, -3.75, -3.75, ..., -3.75, -3.75, -3.75],\n",
       "       [-3.5 , -3.5 , -3.5 , ..., -3.5 , -3.5 , -3.5 ],\n",
       "       ...,\n",
       "       [ 3.25,  3.25,  3.25, ...,  3.25,  3.25,  3.25],\n",
       "       [ 3.5 ,  3.5 ,  3.5 , ...,  3.5 ,  3.5 ,  3.5 ],\n",
       "       [ 3.75,  3.75,  3.75, ...,  3.75,  3.75,  3.75]])"
      ]
     },
     "execution_count": 158,
     "metadata": {},
     "output_type": "execute_result"
    }
   ],
   "source": [
    "YY"
   ]
  },
  {
   "cell_type": "code",
   "execution_count": 126,
   "metadata": {},
   "outputs": [
    {
     "data": {
      "image/png": "[encoded data removed]",
      "text/plain": [
       "<matplotlib.figure.Figure at 0x111523748>"
      ]
     },
     "metadata": {},
     "output_type": "display_data"
    }
   ],
   "source": [
    "test = {1092268: [81, 90], 524292: [80, 80], 892456: [88, 88]}\n",
    "\n",
    "# repackage data into array-like for matplotlib \n",
    "# (see a preferred pythonic way below)\n",
    "data = {\"x\":[], \"y\":[], \"label\":[]}\n",
    "for label, coord in test.items():\n",
    "    data[\"x\"].append(coord[0])\n",
    "    data[\"y\"].append(coord[1])\n",
    "    data[\"label\"].append(label)\n",
    "\n",
    "# display scatter plot data\n",
    "plt.figure(figsize=(10,8))\n",
    "plt.title('Scatter Plot', fontsize=20)\n",
    "plt.xlabel('x', fontsize=15)\n",
    "plt.ylabel('y', fontsize=15)\n",
    "plt.scatter(data[\"x\"], data[\"y\"], marker = 'o')\n",
    "\n",
    "# add labels\n",
    "for label, x, y in zip(data[\"label\"], data[\"x\"], data[\"y\"]):\n",
    "    plt.annotate(label, xy = (x, y))"
   ]
  },
  {
   "cell_type": "code",
   "execution_count": 127,
   "metadata": {},
   "outputs": [
    {
     "data": {
      "image/png": "[encoded data removed]",
      "text/plain": [
       "<matplotlib.figure.Figure at 0x11147c978>"
      ]
     },
     "metadata": {},
     "output_type": "display_data"
    }
   ],
   "source": [
    "# repackage data into array-like for matplotlib, pythonically\n",
    "xs,ys = zip(*test.values())\n",
    "labels = test.keys()   \n",
    "\n",
    "# display\n",
    "plt.figure(figsize=(10,8))\n",
    "plt.title('Scatter Plot', fontsize=20)\n",
    "plt.xlabel('x', fontsize=15)\n",
    "plt.ylabel('y', fontsize=15)\n",
    "plt.scatter(xs, ys, marker = 'o')\n",
    "for label, x, y in zip(labels, xs, ys):\n",
    "    plt.annotate(label, xy = (x, y))"
   ]
  },
  {
   "cell_type": "code",
   "execution_count": 128,
   "metadata": {},
   "outputs": [],
   "source": [
    "\"\"\"\n",
    "def plot(label, x, y):\n",
    "    ...\n",
    "\n",
    "for (key, coordinates) in test.items():\n",
    "    plot(key, coordinates[0], coordinates[1])\n",
    "\"\"\""
   ]
  },
  {
   "cell_type": "code",
   "execution_count": null,
   "metadata": {},
   "outputs": [],
   "source": []
  },
  {
   "cell_type": "code",
   "execution_count": 149,
   "metadata": {
    "scrolled": true
   },
   "outputs": [
    {
     "data": {
      "image/png": "[encoded data removed]",
      "text/plain": [
       "<matplotlib.figure.Figure at 0x1114189e8>"
      ]
     },
     "metadata": {},
     "output_type": "display_data"
    }
   ],
   "source": [
    "merged_dict = {(0, 0): 369670,\n",
    " (0, 1): 370622,\n",
    " (0, 2): 267034,\n",
    " (0, 3): 169500,\n",
    " (0, 4): 116014,\n",
    " (0, 5): 116014,\n",
    " (0, 6): 169500,\n",
    " (0, 7): 267034,\n",
    " (0, 8): 370622,\n",
    " (0, 9): 369670,\n",
    " (1, 0): 370622,\n",
    " (1, 1): 491950,\n",
    " (1, 2): 456750,\n",
    " (1, 3): 370180,\n",
    " (1, 4): 308118,\n",
    " (1, 5): 308118,\n",
    " (1, 6): 370180,\n",
    " (1, 7): 456750,\n",
    " (1, 8): 491950,\n",
    " (1, 9): 370622,\n",
    " (2, 0): 267034,\n",
    " (2, 1): 456750,\n",
    " (2, 2): 542718,\n",
    " (2, 3): 554980,\n",
    " (2, 4): 543588,\n",
    " (2, 5): 543588,\n",
    " (2, 6): 554980,\n",
    " (2, 7): 542718,\n",
    " (2, 8): 456750,\n",
    " (2, 9): 267034,\n",
    " (3, 0): 169500,\n",
    " (3, 1): 370180,\n",
    " (3, 2): 554980,\n",
    " (3, 3): 689848,\n",
    " (3, 4): 759272,\n",
    " (3, 5): 759272,\n",
    " (3, 6): 689848,\n",
    " (3, 7): 554980,\n",
    " (3, 8): 370180,\n",
    " (3, 9): 169500,\n",
    " (4, 0): 116014,\n",
    " (4, 1): 308118,\n",
    " (4, 2): 543588,\n",
    " (4, 3): 759272,\n",
    " (4, 4): 888268,\n",
    " (4, 5): 888268,\n",
    " (4, 6): 759272,\n",
    " (4, 7): 543588,\n",
    " (4, 8): 308118,\n",
    " (4, 9): 116014,\n",
    " (5, 0): 116014,\n",
    " (5, 1): 308118,\n",
    " (5, 2): 543588,\n",
    " (5, 3): 759272,\n",
    " (5, 4): 888268,\n",
    " (5, 5): 888268,\n",
    " (5, 6): 759272,\n",
    " (5, 7): 543588,\n",
    " (5, 8): 308118,\n",
    " (5, 9): 116014,\n",
    " (6, 0): 169500,\n",
    " (6, 1): 370180,\n",
    " (6, 2): 554980,\n",
    " (6, 3): 689848,\n",
    " (6, 4): 759272,\n",
    " (6, 5): 759272,\n",
    " (6, 6): 689848,\n",
    " (6, 7): 554980,\n",
    " (6, 8): 370180,\n",
    " (6, 9): 169500,\n",
    " (7, 0): 267034,\n",
    " (7, 1): 456750,\n",
    " (7, 2): 542718,\n",
    " (7, 3): 554980,\n",
    " (7, 4): 543588,\n",
    " (7, 5): 543588,\n",
    " (7, 6): 554980,\n",
    " (7, 7): 542718,\n",
    " (7, 8): 456750,\n",
    " (7, 9): 267034,\n",
    " (8, 0): 370622,\n",
    " (8, 1): 491950,\n",
    " (8, 2): 456750,\n",
    " (8, 3): 370180,\n",
    " (8, 4): 308118,\n",
    " (8, 5): 308118,\n",
    " (8, 6): 370180,\n",
    " (8, 7): 456750,\n",
    " (8, 8): 491950,\n",
    " (8, 9): 370622,\n",
    " (9, 0): 369670,\n",
    " (9, 1): 370622,\n",
    " (9, 2): 267034,\n",
    " (9, 3): 169500,\n",
    " (9, 4): 116014,\n",
    " (9, 5): 116014,\n",
    " (9, 6): 169500,\n",
    " (9, 7): 267034,\n",
    " (9, 8): 370622,\n",
    " (9, 9): 369670}\n",
    "\n",
    "\n",
    "\n",
    "    \n",
    "    \n",
    "import matplotlib.pyplot as plt\n",
    "import numpy as np\n",
    "from mpl_toolkits.mplot3d import Axes3D\n",
    "from matplotlib import cm\n",
    "\n",
    "fig = plt.figure()\n",
    "ax = fig.gca(projection='3d')\n",
    "\n",
    "X = np.arange(0,10,1)\n",
    "Y = np.arange(0,10,1)\n",
    "X, Y = np.meshgrid(X, Y)\n",
    "\n",
    "Z = np.zeros((10,10))\n",
    "\n",
    "for key in merged_dict:\n",
    "    i = key[0]\n",
    "    j = key[1]\n",
    "    Z[i][j] = float(merged_dict[key])\n",
    "    \n",
    "surf = ax.plot_surface(X, Y, Z, rstride=1, cstride=1, cmap=cm.winter, linewidth=0, antialiased=True)\n",
    "ax.set_zlim(0, 900000)\n",
    "\n",
    "plt.show()"
   ]
  },
  {
   "cell_type": "code",
   "execution_count": null,
   "metadata": {},
   "outputs": [],
   "source": []
  },
  {
   "cell_type": "code",
   "execution_count": null,
   "metadata": {},
   "outputs": [],
   "source": []
  },
  {
   "cell_type": "code",
   "execution_count": null,
   "metadata": {},
   "outputs": [],
   "source": []
  },
  {
   "cell_type": "code",
   "execution_count": 133,
   "metadata": {},
   "outputs": [
    {
     "data": {
      "text/plain": [
       "array([[0, 1, 2, 3, 4, 5, 6, 7, 8, 9],\n",
       "       [0, 1, 2, 3, 4, 5, 6, 7, 8, 9],\n",
       "       [0, 1, 2, 3, 4, 5, 6, 7, 8, 9],\n",
       "       [0, 1, 2, 3, 4, 5, 6, 7, 8, 9],\n",
       "       [0, 1, 2, 3, 4, 5, 6, 7, 8, 9],\n",
       "       [0, 1, 2, 3, 4, 5, 6, 7, 8, 9],\n",
       "       [0, 1, 2, 3, 4, 5, 6, 7, 8, 9],\n",
       "       [0, 1, 2, 3, 4, 5, 6, 7, 8, 9],\n",
       "       [0, 1, 2, 3, 4, 5, 6, 7, 8, 9],\n",
       "       [0, 1, 2, 3, 4, 5, 6, 7, 8, 9]])"
      ]
     },
     "execution_count": 133,
     "metadata": {},
     "output_type": "execute_result"
    }
   ],
   "source": [
    "X"
   ]
  },
  {
   "cell_type": "code",
   "execution_count": 134,
   "metadata": {},
   "outputs": [
    {
     "data": {
      "text/plain": [
       "array([[0, 0, 0, 0, 0, 0, 0, 0, 0, 0],\n",
       "       [1, 1, 1, 1, 1, 1, 1, 1, 1, 1],\n",
       "       [2, 2, 2, 2, 2, 2, 2, 2, 2, 2],\n",
       "       [3, 3, 3, 3, 3, 3, 3, 3, 3, 3],\n",
       "       [4, 4, 4, 4, 4, 4, 4, 4, 4, 4],\n",
       "       [5, 5, 5, 5, 5, 5, 5, 5, 5, 5],\n",
       "       [6, 6, 6, 6, 6, 6, 6, 6, 6, 6],\n",
       "       [7, 7, 7, 7, 7, 7, 7, 7, 7, 7],\n",
       "       [8, 8, 8, 8, 8, 8, 8, 8, 8, 8],\n",
       "       [9, 9, 9, 9, 9, 9, 9, 9, 9, 9]])"
      ]
     },
     "execution_count": 134,
     "metadata": {},
     "output_type": "execute_result"
    }
   ],
   "source": [
    "Y"
   ]
  },
  {
   "cell_type": "code",
   "execution_count": 147,
   "metadata": {},
   "outputs": [
    {
     "ename": "ValueError",
     "evalue": "shape mismatch: objects cannot be broadcast to a single shape",
     "output_type": "error",
     "traceback": [
      "\u001b[0;31m---------------------------------------------------------------------------\u001b[0m",
      "\u001b[0;31mValueError\u001b[0m                                Traceback (most recent call last)",
      "\u001b[0;32m<ipython-input-147-80c084ad8bf2>\u001b[0m in \u001b[0;36m<module>\u001b[0;34m()\u001b[0m\n\u001b[1;32m    113\u001b[0m     \u001b[0mZ\u001b[0m\u001b[0;34m[\u001b[0m\u001b[0mi\u001b[0m\u001b[0;34m]\u001b[0m\u001b[0;34m[\u001b[0m\u001b[0mj\u001b[0m\u001b[0;34m]\u001b[0m \u001b[0;34m=\u001b[0m \u001b[0mfloat\u001b[0m\u001b[0;34m(\u001b[0m\u001b[0mmerged_dict2\u001b[0m\u001b[0;34m[\u001b[0m\u001b[0mkey\u001b[0m\u001b[0;34m]\u001b[0m\u001b[0;34m)\u001b[0m\u001b[0;34m\u001b[0m\u001b[0m\n\u001b[1;32m    114\u001b[0m \u001b[0;34m\u001b[0m\u001b[0m\n\u001b[0;32m--> 115\u001b[0;31m \u001b[0msurf\u001b[0m \u001b[0;34m=\u001b[0m \u001b[0max\u001b[0m\u001b[0;34m.\u001b[0m\u001b[0mplot_surface\u001b[0m\u001b[0;34m(\u001b[0m\u001b[0mX\u001b[0m\u001b[0;34m,\u001b[0m \u001b[0mY\u001b[0m\u001b[0;34m,\u001b[0m \u001b[0mZ\u001b[0m\u001b[0;34m,\u001b[0m \u001b[0mrstride\u001b[0m\u001b[0;34m=\u001b[0m\u001b[0;36m1\u001b[0m\u001b[0;34m,\u001b[0m \u001b[0mcstride\u001b[0m\u001b[0;34m=\u001b[0m\u001b[0;36m1\u001b[0m\u001b[0;34m,\u001b[0m \u001b[0mcmap\u001b[0m\u001b[0;34m=\u001b[0m\u001b[0mcm\u001b[0m\u001b[0;34m.\u001b[0m\u001b[0mwinter\u001b[0m\u001b[0;34m,\u001b[0m \u001b[0mlinewidth\u001b[0m\u001b[0;34m=\u001b[0m\u001b[0;36m0\u001b[0m\u001b[0;34m,\u001b[0m \u001b[0mantialiased\u001b[0m\u001b[0;34m=\u001b[0m\u001b[0;32mTrue\u001b[0m\u001b[0;34m)\u001b[0m\u001b[0;34m\u001b[0m\u001b[0m\n\u001b[0m\u001b[1;32m    116\u001b[0m \u001b[0max\u001b[0m\u001b[0;34m.\u001b[0m\u001b[0mset_zlim\u001b[0m\u001b[0;34m(\u001b[0m\u001b[0;36m0\u001b[0m\u001b[0;34m,\u001b[0m \u001b[0;36m900000\u001b[0m\u001b[0;34m)\u001b[0m\u001b[0;34m\u001b[0m\u001b[0m\n\u001b[1;32m    117\u001b[0m \u001b[0;34m\u001b[0m\u001b[0m\n",
      "\u001b[0;32m~/.pyenv/versions/anaconda3-5.1.0/lib/python3.6/site-packages/mpl_toolkits/mplot3d/axes3d.py\u001b[0m in \u001b[0;36mplot_surface\u001b[0;34m(self, X, Y, Z, *args, **kwargs)\u001b[0m\n\u001b[1;32m   1622\u001b[0m             \u001b[0;32mraise\u001b[0m \u001b[0mValueError\u001b[0m\u001b[0;34m(\u001b[0m\u001b[0;34m\"Argument Z must be 2-dimensional.\"\u001b[0m\u001b[0;34m)\u001b[0m\u001b[0;34m\u001b[0m\u001b[0m\n\u001b[1;32m   1623\u001b[0m         \u001b[0;31m# TODO: Support masked arrays\u001b[0m\u001b[0;34m\u001b[0m\u001b[0;34m\u001b[0m\u001b[0m\n\u001b[0;32m-> 1624\u001b[0;31m         \u001b[0mX\u001b[0m\u001b[0;34m,\u001b[0m \u001b[0mY\u001b[0m\u001b[0;34m,\u001b[0m \u001b[0mZ\u001b[0m \u001b[0;34m=\u001b[0m \u001b[0mnp\u001b[0m\u001b[0;34m.\u001b[0m\u001b[0mbroadcast_arrays\u001b[0m\u001b[0;34m(\u001b[0m\u001b[0mX\u001b[0m\u001b[0;34m,\u001b[0m \u001b[0mY\u001b[0m\u001b[0;34m,\u001b[0m \u001b[0mZ\u001b[0m\u001b[0;34m)\u001b[0m\u001b[0;34m\u001b[0m\u001b[0m\n\u001b[0m\u001b[1;32m   1625\u001b[0m         \u001b[0mrows\u001b[0m\u001b[0;34m,\u001b[0m \u001b[0mcols\u001b[0m \u001b[0;34m=\u001b[0m \u001b[0mZ\u001b[0m\u001b[0;34m.\u001b[0m\u001b[0mshape\u001b[0m\u001b[0;34m\u001b[0m\u001b[0m\n\u001b[1;32m   1626\u001b[0m \u001b[0;34m\u001b[0m\u001b[0m\n",
      "\u001b[0;32m~/.pyenv/versions/anaconda3-5.1.0/lib/python3.6/site-packages/numpy/lib/stride_tricks.py\u001b[0m in \u001b[0;36mbroadcast_arrays\u001b[0;34m(*args, **kwargs)\u001b[0m\n\u001b[1;32m    247\u001b[0m     \u001b[0margs\u001b[0m \u001b[0;34m=\u001b[0m \u001b[0;34m[\u001b[0m\u001b[0mnp\u001b[0m\u001b[0;34m.\u001b[0m\u001b[0marray\u001b[0m\u001b[0;34m(\u001b[0m\u001b[0m_m\u001b[0m\u001b[0;34m,\u001b[0m \u001b[0mcopy\u001b[0m\u001b[0;34m=\u001b[0m\u001b[0;32mFalse\u001b[0m\u001b[0;34m,\u001b[0m \u001b[0msubok\u001b[0m\u001b[0;34m=\u001b[0m\u001b[0msubok\u001b[0m\u001b[0;34m)\u001b[0m \u001b[0;32mfor\u001b[0m \u001b[0m_m\u001b[0m \u001b[0;32min\u001b[0m \u001b[0margs\u001b[0m\u001b[0;34m]\u001b[0m\u001b[0;34m\u001b[0m\u001b[0m\n\u001b[1;32m    248\u001b[0m \u001b[0;34m\u001b[0m\u001b[0m\n\u001b[0;32m--> 249\u001b[0;31m     \u001b[0mshape\u001b[0m \u001b[0;34m=\u001b[0m \u001b[0m_broadcast_shape\u001b[0m\u001b[0;34m(\u001b[0m\u001b[0;34m*\u001b[0m\u001b[0margs\u001b[0m\u001b[0;34m)\u001b[0m\u001b[0;34m\u001b[0m\u001b[0m\n\u001b[0m\u001b[1;32m    250\u001b[0m \u001b[0;34m\u001b[0m\u001b[0m\n\u001b[1;32m    251\u001b[0m     \u001b[0;32mif\u001b[0m \u001b[0mall\u001b[0m\u001b[0;34m(\u001b[0m\u001b[0marray\u001b[0m\u001b[0;34m.\u001b[0m\u001b[0mshape\u001b[0m \u001b[0;34m==\u001b[0m \u001b[0mshape\u001b[0m \u001b[0;32mfor\u001b[0m \u001b[0marray\u001b[0m \u001b[0;32min\u001b[0m \u001b[0margs\u001b[0m\u001b[0;34m)\u001b[0m\u001b[0;34m:\u001b[0m\u001b[0;34m\u001b[0m\u001b[0m\n",
      "\u001b[0;32m~/.pyenv/versions/anaconda3-5.1.0/lib/python3.6/site-packages/numpy/lib/stride_tricks.py\u001b[0m in \u001b[0;36m_broadcast_shape\u001b[0;34m(*args)\u001b[0m\n\u001b[1;32m    182\u001b[0m     \u001b[0;31m# use the old-iterator because np.nditer does not handle size 0 arrays\u001b[0m\u001b[0;34m\u001b[0m\u001b[0;34m\u001b[0m\u001b[0m\n\u001b[1;32m    183\u001b[0m     \u001b[0;31m# consistently\u001b[0m\u001b[0;34m\u001b[0m\u001b[0;34m\u001b[0m\u001b[0m\n\u001b[0;32m--> 184\u001b[0;31m     \u001b[0mb\u001b[0m \u001b[0;34m=\u001b[0m \u001b[0mnp\u001b[0m\u001b[0;34m.\u001b[0m\u001b[0mbroadcast\u001b[0m\u001b[0;34m(\u001b[0m\u001b[0;34m*\u001b[0m\u001b[0margs\u001b[0m\u001b[0;34m[\u001b[0m\u001b[0;34m:\u001b[0m\u001b[0;36m32\u001b[0m\u001b[0;34m]\u001b[0m\u001b[0;34m)\u001b[0m\u001b[0;34m\u001b[0m\u001b[0m\n\u001b[0m\u001b[1;32m    185\u001b[0m     \u001b[0;31m# unfortunately, it cannot handle 32 or more arguments directly\u001b[0m\u001b[0;34m\u001b[0m\u001b[0;34m\u001b[0m\u001b[0m\n\u001b[1;32m    186\u001b[0m     \u001b[0;32mfor\u001b[0m \u001b[0mpos\u001b[0m \u001b[0;32min\u001b[0m \u001b[0mrange\u001b[0m\u001b[0;34m(\u001b[0m\u001b[0;36m32\u001b[0m\u001b[0;34m,\u001b[0m \u001b[0mlen\u001b[0m\u001b[0;34m(\u001b[0m\u001b[0margs\u001b[0m\u001b[0;34m)\u001b[0m\u001b[0;34m,\u001b[0m \u001b[0;36m31\u001b[0m\u001b[0;34m)\u001b[0m\u001b[0;34m:\u001b[0m\u001b[0;34m\u001b[0m\u001b[0m\n",
      "\u001b[0;31mValueError\u001b[0m: shape mismatch: objects cannot be broadcast to a single shape"
     ]
    },
    {
     "data": {
      "image/png": "[encoded data removed]",
      "text/plain": [
       "<matplotlib.figure.Figure at 0x11139ca90>"
      ]
     },
     "metadata": {},
     "output_type": "display_data"
    }
   ],
   "source": [
    "merged_dict2 = {(0, 0): 369670,\n",
    " (0, 1): 370622,\n",
    " (0, 2): 267034,\n",
    " (0, 3): 169500,\n",
    " (0, 4): 116014,\n",
    " (0, 5): 116014,\n",
    " (0, 6): 169500,\n",
    " (0, 7): 267034,\n",
    " (0, 8): 370622,\n",
    " (0, 9): 456750,\n",
    " (1, 0): 370622,\n",
    " (1, 1): 491950,\n",
    " (1, 2): 456750,\n",
    " (1, 3): 370180,\n",
    " (1, 4): 308118,\n",
    " (1, 5): 308118,\n",
    " (1, 6): 370180,\n",
    " (1, 7): 456750,\n",
    " (1, 8): 491950,\n",
    " (1, 9): 542718,\n",
    " (2, 0): 267034,\n",
    " (2, 1): 456750,\n",
    " (2, 2): 542718,\n",
    " (2, 3): 554980,\n",
    " (2, 4): 543588,\n",
    " (2, 5): 543588,\n",
    " (2, 6): 554980,\n",
    " (2, 7): 542718,\n",
    " (2, 8): 456750,\n",
    " (2, 9): 456750,\n",
    " (3, 0): 169500,\n",
    " (3, 1): 370180,\n",
    " (3, 2): 554980,\n",
    " (3, 3): 689848,\n",
    " (3, 4): 759272,\n",
    " (3, 5): 759272,\n",
    " (3, 6): 689848,\n",
    " (3, 7): 554980,\n",
    " (3, 8): 370180,\n",
    " (3, 9): 308118,\n",
    " (4, 0): 116014,\n",
    " (4, 1): 308118,\n",
    " (4, 2): 543588,\n",
    " (4, 3): 759272,\n",
    " (4, 4): 888268,\n",
    " (4, 5): 888268,\n",
    " (4, 6): 759272,\n",
    " (4, 7): 543588,\n",
    " (4, 8): 308118,\n",
    " (4, 9): 116014,              \n",
    " (5, 0): 116014,\n",
    " (5, 1): 308118,\n",
    " (5, 2): 543588,\n",
    " (5, 3): 759272,\n",
    " (5, 4): 888268,\n",
    " (5, 5): 888268,\n",
    " (5, 6): 759272,\n",
    " (5, 7): 543588,\n",
    " (5, 8): 308118,\n",
    " (5, 9): 116014,              \n",
    " (6, 0): 169500,\n",
    " (6, 1): 370180,\n",
    " (6, 2): 554980,\n",
    " (6, 3): 689848,\n",
    " (6, 4): 759272,\n",
    " (6, 5): 759272,\n",
    " (6, 6): 689848,\n",
    " (6, 7): 554980,\n",
    " (6, 8): 370180,\n",
    " (6, 9): 169500,\n",
    " (7, 0): 267034,\n",
    " (7, 1): 456750,\n",
    " (7, 2): 542718,\n",
    " (7, 3): 554980,\n",
    " (7, 4): 543588,\n",
    " (7, 5): 543588,\n",
    " (7, 6): 554980,\n",
    " (7, 7): 542718,\n",
    " (7, 8): 456750,\n",
    " (7, 9): 267034,\n",
    " (8, 0): 370622,\n",
    " (8, 1): 491950,\n",
    " (8, 2): 456750,\n",
    " (8, 3): 370180,\n",
    " (8, 4): 308118,\n",
    " (8, 5): 308118,\n",
    " (8, 6): 370180,\n",
    " (8, 7): 456750,\n",
    " (8, 8): 491950,\n",
    " (8, 9): 370622}\n",
    "\n",
    "\n",
    "\n",
    "    \n",
    "    \n",
    "import matplotlib.pyplot as plt\n",
    "import numpy as np\n",
    "from mpl_toolkits.mplot3d import Axes3D\n",
    "from matplotlib import cm\n",
    "\n",
    "fig = plt.figure()\n",
    "ax = fig.gca(projection='3d')\n",
    "\n",
    "X = np.arange(0,9,1)\n",
    "Y = np.arange(0,10,1)\n",
    "X, Y = np.meshgrid(X, Y)\n",
    "\n",
    "Z = np.zeros((9,10))\n",
    "\n",
    "for key in merged_dict2:\n",
    "    i = key[0]\n",
    "    j = key[1]\n",
    "    Z[i][j] = float(merged_dict2[key])\n",
    "    \n",
    "surf = ax.plot_surface(X, Y, Z, rstride=1, cstride=1, cmap=cm.winter, linewidth=0, antialiased=True)\n",
    "ax.set_zlim(0, 900000)\n",
    "\n",
    "plt.show()"
   ]
  },
  {
   "cell_type": "code",
   "execution_count": null,
   "metadata": {},
   "outputs": [],
   "source": []
  },
  {
   "cell_type": "code",
   "execution_count": null,
   "metadata": {},
   "outputs": [],
   "source": []
  }
 ],
 "metadata": {
  "kernelspec": {
   "display_name": "Python 3",
   "language": "python",
   "name": "python3"
  },
  "language_info": {
   "codemirror_mode": {
    "name": "ipython",
    "version": 3
   },
   "file_extension": ".py",
   "mimetype": "text/x-python",
   "name": "python",
   "nbconvert_exporter": "python",
   "pygments_lexer": "ipython3",
   "version": "3.6.4"
  }
 },
 "nbformat": 4,
 "nbformat_minor": 2
}
