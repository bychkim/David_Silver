{
 "cells": [
  {
   "cell_type": "code",
   "execution_count": 18,
   "metadata": {},
   "outputs": [],
   "source": [
    "import sys\n",
    "import random\n",
    "import numpy as np\n",
    "import pandas as pd\n",
    "import matplotlib.pyplot as plt\n",
    "import matplotlib as mpl\n",
    "from mpl_toolkits.mplot3d import Axes3D\n",
    "from matplotlib import cm\n"
   ]
  },
  {
   "cell_type": "code",
   "execution_count": 3,
   "metadata": {},
   "outputs": [],
   "source": [
    "class Agent(object):\n",
    "    \n",
    "    class State(object):\n",
    "        def __init__(self):\n",
    "            self.count = {'state': 0, 'hit': 0, 'stick': 0}\n",
    "            self.action_value = {'hit':0, 'stick':0} # state value는 사용하지 않아도 되나? 사용할 경우 self.state_value 추가\n",
    "    \n",
    "    def __init__(self, number_of_learning):       \n",
    "        self.state_dict = {} # initialization 초기화\n",
    "        self.number_of_learning = number_of_learning\n",
    "        \n",
    "        for dealer_card in range(1, 11):\n",
    "            for player_total in range(1, 22):\n",
    "                self.state_dict[(dealer_card, player_total)] = self.State()"
   ]
  },
  {
   "cell_type": "code",
   "execution_count": 6,
   "metadata": {},
   "outputs": [
    {
     "data": {
      "text/plain": [
       "{(1, 1): <__main__.Agent.State at 0x10873ae80>,\n",
       " (1, 2): <__main__.Agent.State at 0x10873aeb8>,\n",
       " (1, 3): <__main__.Agent.State at 0x10873aef0>,\n",
       " (1, 4): <__main__.Agent.State at 0x10873af28>,\n",
       " (1, 5): <__main__.Agent.State at 0x10873af60>,\n",
       " (1, 6): <__main__.Agent.State at 0x10873af98>,\n",
       " (1, 7): <__main__.Agent.State at 0x10873afd0>,\n",
       " (1, 8): <__main__.Agent.State at 0x108726048>,\n",
       " (1, 9): <__main__.Agent.State at 0x108726080>,\n",
       " (1, 10): <__main__.Agent.State at 0x1087260b8>,\n",
       " (1, 11): <__main__.Agent.State at 0x1087260f0>,\n",
       " (1, 12): <__main__.Agent.State at 0x108726128>,\n",
       " (1, 13): <__main__.Agent.State at 0x108726160>,\n",
       " (1, 14): <__main__.Agent.State at 0x108726198>,\n",
       " (1, 15): <__main__.Agent.State at 0x1087261d0>,\n",
       " (1, 16): <__main__.Agent.State at 0x108726208>,\n",
       " (1, 17): <__main__.Agent.State at 0x108726240>,\n",
       " (1, 18): <__main__.Agent.State at 0x108726278>,\n",
       " (1, 19): <__main__.Agent.State at 0x1087262b0>,\n",
       " (1, 20): <__main__.Agent.State at 0x1087262e8>,\n",
       " (1, 21): <__main__.Agent.State at 0x108726320>,\n",
       " (2, 1): <__main__.Agent.State at 0x108726358>,\n",
       " (2, 2): <__main__.Agent.State at 0x108726390>,\n",
       " (2, 3): <__main__.Agent.State at 0x1087263c8>,\n",
       " (2, 4): <__main__.Agent.State at 0x108726400>,\n",
       " (2, 5): <__main__.Agent.State at 0x108726438>,\n",
       " (2, 6): <__main__.Agent.State at 0x108726470>,\n",
       " (2, 7): <__main__.Agent.State at 0x1087264a8>,\n",
       " (2, 8): <__main__.Agent.State at 0x1087264e0>,\n",
       " (2, 9): <__main__.Agent.State at 0x108726518>,\n",
       " (2, 10): <__main__.Agent.State at 0x108726550>,\n",
       " (2, 11): <__main__.Agent.State at 0x108726588>,\n",
       " (2, 12): <__main__.Agent.State at 0x1087265c0>,\n",
       " (2, 13): <__main__.Agent.State at 0x1087265f8>,\n",
       " (2, 14): <__main__.Agent.State at 0x108726630>,\n",
       " (2, 15): <__main__.Agent.State at 0x108726668>,\n",
       " (2, 16): <__main__.Agent.State at 0x1087266a0>,\n",
       " (2, 17): <__main__.Agent.State at 0x1087266d8>,\n",
       " (2, 18): <__main__.Agent.State at 0x108726710>,\n",
       " (2, 19): <__main__.Agent.State at 0x108726748>,\n",
       " (2, 20): <__main__.Agent.State at 0x108726780>,\n",
       " (2, 21): <__main__.Agent.State at 0x1087267b8>,\n",
       " (3, 1): <__main__.Agent.State at 0x1087267f0>,\n",
       " (3, 2): <__main__.Agent.State at 0x108726828>,\n",
       " (3, 3): <__main__.Agent.State at 0x108726860>,\n",
       " (3, 4): <__main__.Agent.State at 0x108726898>,\n",
       " (3, 5): <__main__.Agent.State at 0x1087268d0>,\n",
       " (3, 6): <__main__.Agent.State at 0x108726908>,\n",
       " (3, 7): <__main__.Agent.State at 0x108726940>,\n",
       " (3, 8): <__main__.Agent.State at 0x108726978>,\n",
       " (3, 9): <__main__.Agent.State at 0x1087269b0>,\n",
       " (3, 10): <__main__.Agent.State at 0x1087269e8>,\n",
       " (3, 11): <__main__.Agent.State at 0x108726a20>,\n",
       " (3, 12): <__main__.Agent.State at 0x108726a58>,\n",
       " (3, 13): <__main__.Agent.State at 0x108726a90>,\n",
       " (3, 14): <__main__.Agent.State at 0x108726ac8>,\n",
       " (3, 15): <__main__.Agent.State at 0x108726b00>,\n",
       " (3, 16): <__main__.Agent.State at 0x108726b38>,\n",
       " (3, 17): <__main__.Agent.State at 0x108726b70>,\n",
       " (3, 18): <__main__.Agent.State at 0x108726ba8>,\n",
       " (3, 19): <__main__.Agent.State at 0x108726be0>,\n",
       " (3, 20): <__main__.Agent.State at 0x108726c18>,\n",
       " (3, 21): <__main__.Agent.State at 0x108726c50>,\n",
       " (4, 1): <__main__.Agent.State at 0x108726c88>,\n",
       " (4, 2): <__main__.Agent.State at 0x108726cc0>,\n",
       " (4, 3): <__main__.Agent.State at 0x108726cf8>,\n",
       " (4, 4): <__main__.Agent.State at 0x108726d30>,\n",
       " (4, 5): <__main__.Agent.State at 0x108726d68>,\n",
       " (4, 6): <__main__.Agent.State at 0x108726da0>,\n",
       " (4, 7): <__main__.Agent.State at 0x108726dd8>,\n",
       " (4, 8): <__main__.Agent.State at 0x108726e10>,\n",
       " (4, 9): <__main__.Agent.State at 0x108726e48>,\n",
       " (4, 10): <__main__.Agent.State at 0x108726e80>,\n",
       " (4, 11): <__main__.Agent.State at 0x108726eb8>,\n",
       " (4, 12): <__main__.Agent.State at 0x108726ef0>,\n",
       " (4, 13): <__main__.Agent.State at 0x108726f28>,\n",
       " (4, 14): <__main__.Agent.State at 0x108726f60>,\n",
       " (4, 15): <__main__.Agent.State at 0x108726f98>,\n",
       " (4, 16): <__main__.Agent.State at 0x108726fd0>,\n",
       " (4, 17): <__main__.Agent.State at 0x108758048>,\n",
       " (4, 18): <__main__.Agent.State at 0x108758080>,\n",
       " (4, 19): <__main__.Agent.State at 0x1087580b8>,\n",
       " (4, 20): <__main__.Agent.State at 0x1087580f0>,\n",
       " (4, 21): <__main__.Agent.State at 0x108758128>,\n",
       " (5, 1): <__main__.Agent.State at 0x108758160>,\n",
       " (5, 2): <__main__.Agent.State at 0x108758198>,\n",
       " (5, 3): <__main__.Agent.State at 0x1087581d0>,\n",
       " (5, 4): <__main__.Agent.State at 0x108758208>,\n",
       " (5, 5): <__main__.Agent.State at 0x108758240>,\n",
       " (5, 6): <__main__.Agent.State at 0x108758278>,\n",
       " (5, 7): <__main__.Agent.State at 0x1087582b0>,\n",
       " (5, 8): <__main__.Agent.State at 0x1087582e8>,\n",
       " (5, 9): <__main__.Agent.State at 0x108758320>,\n",
       " (5, 10): <__main__.Agent.State at 0x108758358>,\n",
       " (5, 11): <__main__.Agent.State at 0x108758390>,\n",
       " (5, 12): <__main__.Agent.State at 0x1087583c8>,\n",
       " (5, 13): <__main__.Agent.State at 0x108758400>,\n",
       " (5, 14): <__main__.Agent.State at 0x108758438>,\n",
       " (5, 15): <__main__.Agent.State at 0x108758470>,\n",
       " (5, 16): <__main__.Agent.State at 0x1087584a8>,\n",
       " (5, 17): <__main__.Agent.State at 0x1087584e0>,\n",
       " (5, 18): <__main__.Agent.State at 0x108758518>,\n",
       " (5, 19): <__main__.Agent.State at 0x108758550>,\n",
       " (5, 20): <__main__.Agent.State at 0x108758588>,\n",
       " (5, 21): <__main__.Agent.State at 0x1087585c0>,\n",
       " (6, 1): <__main__.Agent.State at 0x1087585f8>,\n",
       " (6, 2): <__main__.Agent.State at 0x108758630>,\n",
       " (6, 3): <__main__.Agent.State at 0x108758668>,\n",
       " (6, 4): <__main__.Agent.State at 0x1087586a0>,\n",
       " (6, 5): <__main__.Agent.State at 0x1087586d8>,\n",
       " (6, 6): <__main__.Agent.State at 0x108758710>,\n",
       " (6, 7): <__main__.Agent.State at 0x108758748>,\n",
       " (6, 8): <__main__.Agent.State at 0x108758780>,\n",
       " (6, 9): <__main__.Agent.State at 0x1087587b8>,\n",
       " (6, 10): <__main__.Agent.State at 0x1087587f0>,\n",
       " (6, 11): <__main__.Agent.State at 0x108758828>,\n",
       " (6, 12): <__main__.Agent.State at 0x108758860>,\n",
       " (6, 13): <__main__.Agent.State at 0x108758898>,\n",
       " (6, 14): <__main__.Agent.State at 0x1087588d0>,\n",
       " (6, 15): <__main__.Agent.State at 0x108758908>,\n",
       " (6, 16): <__main__.Agent.State at 0x108758940>,\n",
       " (6, 17): <__main__.Agent.State at 0x108758978>,\n",
       " (6, 18): <__main__.Agent.State at 0x1087589b0>,\n",
       " (6, 19): <__main__.Agent.State at 0x1087589e8>,\n",
       " (6, 20): <__main__.Agent.State at 0x108758a20>,\n",
       " (6, 21): <__main__.Agent.State at 0x108758a58>,\n",
       " (7, 1): <__main__.Agent.State at 0x108758a90>,\n",
       " (7, 2): <__main__.Agent.State at 0x108758ac8>,\n",
       " (7, 3): <__main__.Agent.State at 0x108758b00>,\n",
       " (7, 4): <__main__.Agent.State at 0x108758b38>,\n",
       " (7, 5): <__main__.Agent.State at 0x108758b70>,\n",
       " (7, 6): <__main__.Agent.State at 0x108758ba8>,\n",
       " (7, 7): <__main__.Agent.State at 0x108758be0>,\n",
       " (7, 8): <__main__.Agent.State at 0x108758c18>,\n",
       " (7, 9): <__main__.Agent.State at 0x108758c50>,\n",
       " (7, 10): <__main__.Agent.State at 0x108758c88>,\n",
       " (7, 11): <__main__.Agent.State at 0x108758cc0>,\n",
       " (7, 12): <__main__.Agent.State at 0x108758cf8>,\n",
       " (7, 13): <__main__.Agent.State at 0x108758d30>,\n",
       " (7, 14): <__main__.Agent.State at 0x108758d68>,\n",
       " (7, 15): <__main__.Agent.State at 0x108758da0>,\n",
       " (7, 16): <__main__.Agent.State at 0x108758dd8>,\n",
       " (7, 17): <__main__.Agent.State at 0x108758e10>,\n",
       " (7, 18): <__main__.Agent.State at 0x108758e48>,\n",
       " (7, 19): <__main__.Agent.State at 0x108758e80>,\n",
       " (7, 20): <__main__.Agent.State at 0x108758eb8>,\n",
       " (7, 21): <__main__.Agent.State at 0x108758ef0>,\n",
       " (8, 1): <__main__.Agent.State at 0x108758f28>,\n",
       " (8, 2): <__main__.Agent.State at 0x108758f60>,\n",
       " (8, 3): <__main__.Agent.State at 0x108758f98>,\n",
       " (8, 4): <__main__.Agent.State at 0x108758fd0>,\n",
       " (8, 5): <__main__.Agent.State at 0x108763048>,\n",
       " (8, 6): <__main__.Agent.State at 0x108763080>,\n",
       " (8, 7): <__main__.Agent.State at 0x1087630b8>,\n",
       " (8, 8): <__main__.Agent.State at 0x1087630f0>,\n",
       " (8, 9): <__main__.Agent.State at 0x108763128>,\n",
       " (8, 10): <__main__.Agent.State at 0x108763160>,\n",
       " (8, 11): <__main__.Agent.State at 0x108763198>,\n",
       " (8, 12): <__main__.Agent.State at 0x1087631d0>,\n",
       " (8, 13): <__main__.Agent.State at 0x108763208>,\n",
       " (8, 14): <__main__.Agent.State at 0x108763240>,\n",
       " (8, 15): <__main__.Agent.State at 0x108763278>,\n",
       " (8, 16): <__main__.Agent.State at 0x1087632b0>,\n",
       " (8, 17): <__main__.Agent.State at 0x1087632e8>,\n",
       " (8, 18): <__main__.Agent.State at 0x108763320>,\n",
       " (8, 19): <__main__.Agent.State at 0x108763358>,\n",
       " (8, 20): <__main__.Agent.State at 0x108763390>,\n",
       " (8, 21): <__main__.Agent.State at 0x1087633c8>,\n",
       " (9, 1): <__main__.Agent.State at 0x108763400>,\n",
       " (9, 2): <__main__.Agent.State at 0x108763438>,\n",
       " (9, 3): <__main__.Agent.State at 0x108763470>,\n",
       " (9, 4): <__main__.Agent.State at 0x1087634a8>,\n",
       " (9, 5): <__main__.Agent.State at 0x1087634e0>,\n",
       " (9, 6): <__main__.Agent.State at 0x108763518>,\n",
       " (9, 7): <__main__.Agent.State at 0x108763550>,\n",
       " (9, 8): <__main__.Agent.State at 0x108763588>,\n",
       " (9, 9): <__main__.Agent.State at 0x1087635c0>,\n",
       " (9, 10): <__main__.Agent.State at 0x1087635f8>,\n",
       " (9, 11): <__main__.Agent.State at 0x108763630>,\n",
       " (9, 12): <__main__.Agent.State at 0x108763668>,\n",
       " (9, 13): <__main__.Agent.State at 0x1087636a0>,\n",
       " (9, 14): <__main__.Agent.State at 0x1087636d8>,\n",
       " (9, 15): <__main__.Agent.State at 0x108763710>,\n",
       " (9, 16): <__main__.Agent.State at 0x108763748>,\n",
       " (9, 17): <__main__.Agent.State at 0x108763780>,\n",
       " (9, 18): <__main__.Agent.State at 0x1087637b8>,\n",
       " (9, 19): <__main__.Agent.State at 0x1087637f0>,\n",
       " (9, 20): <__main__.Agent.State at 0x108763828>,\n",
       " (9, 21): <__main__.Agent.State at 0x108763860>,\n",
       " (10, 1): <__main__.Agent.State at 0x108763898>,\n",
       " (10, 2): <__main__.Agent.State at 0x1087638d0>,\n",
       " (10, 3): <__main__.Agent.State at 0x108763908>,\n",
       " (10, 4): <__main__.Agent.State at 0x108763940>,\n",
       " (10, 5): <__main__.Agent.State at 0x108763978>,\n",
       " (10, 6): <__main__.Agent.State at 0x1087639b0>,\n",
       " (10, 7): <__main__.Agent.State at 0x1087639e8>,\n",
       " (10, 8): <__main__.Agent.State at 0x108763a20>,\n",
       " (10, 9): <__main__.Agent.State at 0x108763a58>,\n",
       " (10, 10): <__main__.Agent.State at 0x108763a90>,\n",
       " (10, 11): <__main__.Agent.State at 0x108763ac8>,\n",
       " (10, 12): <__main__.Agent.State at 0x108763b00>,\n",
       " (10, 13): <__main__.Agent.State at 0x108763b38>,\n",
       " (10, 14): <__main__.Agent.State at 0x108763b70>,\n",
       " (10, 15): <__main__.Agent.State at 0x108763ba8>,\n",
       " (10, 16): <__main__.Agent.State at 0x108763be0>,\n",
       " (10, 17): <__main__.Agent.State at 0x108763c18>,\n",
       " (10, 18): <__main__.Agent.State at 0x108763c50>,\n",
       " (10, 19): <__main__.Agent.State at 0x108763c88>,\n",
       " (10, 20): <__main__.Agent.State at 0x108763cc0>,\n",
       " (10, 21): <__main__.Agent.State at 0x108763cf8>}"
      ]
     },
     "execution_count": 6,
     "metadata": {},
     "output_type": "execute_result"
    }
   ],
   "source": []
  },
  {
   "cell_type": "code",
   "execution_count": null,
   "metadata": {},
   "outputs": [],
   "source": []
  },
  {
   "cell_type": "code",
   "execution_count": null,
   "metadata": {},
   "outputs": [],
   "source": []
  },
  {
   "cell_type": "code",
   "execution_count": null,
   "metadata": {},
   "outputs": [],
   "source": []
  },
  {
   "cell_type": "code",
   "execution_count": 7,
   "metadata": {},
   "outputs": [],
   "source": [
    "n = 3"
   ]
  },
  {
   "cell_type": "code",
   "execution_count": 10,
   "metadata": {},
   "outputs": [
    {
     "data": {
      "text/plain": [
       "4"
      ]
     },
     "execution_count": 10,
     "metadata": {},
     "output_type": "execute_result"
    }
   ],
   "source": [
    "2 ** (n-1)"
   ]
  },
  {
   "cell_type": "code",
   "execution_count": 11,
   "metadata": {},
   "outputs": [
    {
     "data": {
      "text/plain": [
       "1"
      ]
     },
     "execution_count": 11,
     "metadata": {},
     "output_type": "execute_result"
    }
   ],
   "source": [
    "2 ** (n-3)"
   ]
  },
  {
   "cell_type": "code",
   "execution_count": 16,
   "metadata": {},
   "outputs": [
    {
     "data": {
      "text/plain": [
       "array([0. , 0.1, 0.2, 0.3, 0.4, 0.5, 0.6, 0.7, 0.8, 0.9, 1. ])"
      ]
     },
     "execution_count": 16,
     "metadata": {},
     "output_type": "execute_result"
    }
   ],
   "source": [
    "np.arange(0, 1.1, 0.1)"
   ]
  },
  {
   "cell_type": "code",
   "execution_count": 23,
   "metadata": {},
   "outputs": [],
   "source": [
    "list1 = [1, 2, 3]\n",
    "list2 = [5, 7 ,9]"
   ]
  },
  {
   "cell_type": "code",
   "execution_count": 24,
   "metadata": {},
   "outputs": [],
   "source": [
    "series1 = pd.Series(list1)\n",
    "series2 = pd.Series(list2)"
   ]
  },
  {
   "cell_type": "code",
   "execution_count": 25,
   "metadata": {},
   "outputs": [
    {
     "data": {
      "text/plain": [
       "0    4\n",
       "1    5\n",
       "2    6\n",
       "dtype: int64"
      ]
     },
     "execution_count": 25,
     "metadata": {},
     "output_type": "execute_result"
    }
   ],
   "source": [
    "series2 - series1 "
   ]
  },
  {
   "cell_type": "code",
   "execution_count": 26,
   "metadata": {},
   "outputs": [
    {
     "data": {
      "text/plain": [
       "0     5\n",
       "1    14\n",
       "2    27\n",
       "dtype: int64"
      ]
     },
     "execution_count": 26,
     "metadata": {},
     "output_type": "execute_result"
    }
   ],
   "source": [
    "series2 * series1"
   ]
  },
  {
   "cell_type": "code",
   "execution_count": 27,
   "metadata": {},
   "outputs": [],
   "source": [
    "list1 = [1, 2, 3, 4, 5, 6, 7, 8, 9, 10, 11, 12, 13, 14, 15, 16, 17, 18]"
   ]
  },
  {
   "cell_type": "code",
   "execution_count": null,
   "metadata": {},
   "outputs": [],
   "source": [
    "np.identity(18)[2] * list1"
   ]
  },
  {
   "cell_type": "code",
   "execution_count": 46,
   "metadata": {},
   "outputs": [
    {
     "data": {
      "text/plain": [
       "numpy.ndarray"
      ]
     },
     "execution_count": 46,
     "metadata": {},
     "output_type": "execute_result"
    }
   ],
   "source": [
    "type(np.identity(36)[2])"
   ]
  },
  {
   "cell_type": "code",
   "execution_count": 47,
   "metadata": {},
   "outputs": [
    {
     "data": {
      "text/plain": [
       "numpy.ndarray"
      ]
     },
     "execution_count": 47,
     "metadata": {},
     "output_type": "execute_result"
    }
   ],
   "source": [
    "type(np.zeros(36))"
   ]
  },
  {
   "cell_type": "code",
   "execution_count": null,
   "metadata": {},
   "outputs": [],
   "source": [
    "bi_feature_mtx = np.identity(36)"
   ]
  },
  {
   "cell_type": "code",
   "execution_count": 48,
   "metadata": {},
   "outputs": [
    {
     "data": {
      "text/plain": [
       "array([0., 0., 0., 0., 0., 0., 0., 0., 0., 0., 0., 0., 0., 0., 0., 0., 0.,\n",
       "       0., 0., 0., 0., 0., 0., 0., 0., 0., 0., 0., 0., 0., 0., 0., 0., 0.,\n",
       "       0., 0.])"
      ]
     },
     "execution_count": 48,
     "metadata": {},
     "output_type": "execute_result"
    }
   ],
   "source": [
    "np.identity(36)[2] * np.zeros(36)"
   ]
  },
  {
   "cell_type": "code",
   "execution_count": 49,
   "metadata": {},
   "outputs": [
    {
     "name": "stdout",
     "output_type": "stream",
     "text": [
      "0 4 5 0 0 1 1\n",
      "0 4 5 0 0 2 2\n",
      "0 4 5 0 1 1 7\n",
      "0 4 5 0 1 2 8\n"
     ]
    },
    {
     "data": {
      "text/plain": [
       "(numpy.ndarray, numpy.ndarray)"
      ]
     },
     "execution_count": 49,
     "metadata": {},
     "output_type": "execute_result"
    }
   ],
   "source": [
    "f = make_feature_vector((4, 5), 'hit')\n",
    "w = np.ones(36)\n",
    "type(f), type(w)"
   ]
  },
  {
   "cell_type": "code",
   "execution_count": 50,
   "metadata": {},
   "outputs": [
    {
     "name": "stdout",
     "output_type": "stream",
     "text": [
      "4\n"
     ]
    }
   ],
   "source": [
    "rand_dealer = random.randrange(1,11)\n",
    "if rand_dealer >= 1 and rand_dealer <= 4:\n",
    "    print(rand_dealer)\n",
    "else:\n",
    "    print('X', rand_dealer)"
   ]
  },
  {
   "cell_type": "code",
   "execution_count": 43,
   "metadata": {},
   "outputs": [
    {
     "name": "stdout",
     "output_type": "stream",
     "text": [
      "3\n"
     ]
    }
   ],
   "source": [
    "if 3 in range(0, 5):\n",
    "    print(3)"
   ]
  },
  {
   "cell_type": "code",
   "execution_count": null,
   "metadata": {},
   "outputs": [],
   "source": []
  },
  {
   "cell_type": "code",
   "execution_count": null,
   "metadata": {},
   "outputs": [],
   "source": []
  },
  {
   "cell_type": "code",
   "execution_count": null,
   "metadata": {},
   "outputs": [],
   "source": []
  },
  {
   "cell_type": "code",
   "execution_count": null,
   "metadata": {},
   "outputs": [],
   "source": []
  },
  {
   "cell_type": "code",
   "execution_count": null,
   "metadata": {},
   "outputs": [],
   "source": [
    "def linear_function_approximation(number_of_learning):\n",
    "    \n",
    "    rand_dealer = random.randrange(1,11)\n",
    "    rand_player = random.randrange(1,22)\n",
    "    rand_action = random.randrange(0, 2)\n",
    "    \n",
    "    feature_vector = np.zeros(36)\n",
    "    \n",
    "    for i in range(0, 2):\n",
    "        if i == rand_action:\n",
    "            ii = i\n",
    "        else:\n",
    "            continue\n",
    "        for j in range(0, 3):\n",
    "            if rand_dealer in range(1 + j*3, 1 + j*3 + 4):\n",
    "                jj = j\n",
    "            else:\n",
    "                continue\n",
    "            for k in range(1, 7):\n",
    "                if rand_player in range(1 + (k-1)*3, 1 + (k-1)*3 + 6 ):\n",
    "                    kk = k\n",
    "                else:\n",
    "                    continue\n",
    "                feature_vector += \n",
    "            \n",
    "            \n",
    "    \n",
    "    if rand_dealer >= 1 and rand_dealer <= 4:\n",
    "        if \n",
    "    \n",
    "    for i in range(0, number_of_learning):"
   ]
  },
  {
   "cell_type": "code",
   "execution_count": 44,
   "metadata": {},
   "outputs": [],
   "source": [
    "def make_feature_vector(state, action):\n",
    "    \n",
    "    feature_vector = np.zeros(36)\n",
    "    \n",
    "    if action == 'hit':\n",
    "        action_feature = 0\n",
    "    elif action == 'stick':\n",
    "        action_feature = 1\n",
    "        \n",
    "    player_feature = state[1]\n",
    "    dealer_feature = state[0]\n",
    "    \n",
    "    for i in range(0, 2):\n",
    "        if i == action_feature:\n",
    "            ii = i\n",
    "        else:\n",
    "            continue\n",
    "        for j in range(0, 3):\n",
    "            if dealer_feature in range(1 + j*3, 1 + j*3 + 4):\n",
    "                jj = j\n",
    "            else:\n",
    "                continue\n",
    "            for k in range(1, 7):\n",
    "                if player_feature in range(1 + (k-1)*3, 1 + (k-1)*3 + 6 ):\n",
    "                    kk = k\n",
    "                else:\n",
    "                    continue\n",
    "                print(action_feature, dealer_feature, player_feature, i, j, k, 18*i + 6*j + k)\n",
    "                feature_vector += np.identity(36)[18*i + 6*j + k - 1]\n",
    "                \n",
    "    return feature_vector"
   ]
  },
  {
   "cell_type": "code",
   "execution_count": 45,
   "metadata": {},
   "outputs": [
    {
     "name": "stdout",
     "output_type": "stream",
     "text": [
      "0 4 5 0 0 1 1\n",
      "0 4 5 0 0 2 2\n",
      "0 4 5 0 1 1 7\n",
      "0 4 5 0 1 2 8\n"
     ]
    },
    {
     "data": {
      "text/plain": [
       "array([1., 1., 0., 0., 0., 0., 1., 1., 0., 0., 0., 0., 0., 0., 0., 0., 0.,\n",
       "       0., 0., 0., 0., 0., 0., 0., 0., 0., 0., 0., 0., 0., 0., 0., 0., 0.,\n",
       "       0., 0.])"
      ]
     },
     "execution_count": 45,
     "metadata": {},
     "output_type": "execute_result"
    }
   ],
   "source": [
    "feature_vector = make_feature_vector((4,5), 'hit')\n",
    "feature_vector"
   ]
  },
  {
   "cell_type": "code",
   "execution_count": null,
   "metadata": {},
   "outputs": [],
   "source": []
  },
  {
   "cell_type": "code",
   "execution_count": null,
   "metadata": {},
   "outputs": [],
   "source": []
  },
  {
   "cell_type": "code",
   "execution_count": null,
   "metadata": {},
   "outputs": [],
   "source": []
  }
 ],
 "metadata": {
  "kernelspec": {
   "display_name": "Python 3",
   "language": "python",
   "name": "python3"
  },
  "language_info": {
   "codemirror_mode": {
    "name": "ipython",
    "version": 3
   },
   "file_extension": ".py",
   "mimetype": "text/x-python",
   "name": "python",
   "nbconvert_exporter": "python",
   "pygments_lexer": "ipython3",
   "version": "3.6.4"
  }
 },
 "nbformat": 4,
 "nbformat_minor": 2
}
