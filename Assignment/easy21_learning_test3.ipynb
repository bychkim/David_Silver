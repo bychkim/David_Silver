{
 "cells": [
  {
   "cell_type": "code",
   "execution_count": 1,
   "metadata": {},
   "outputs": [],
   "source": [
    "import sys\n",
    "import random\n",
    "import numpy as np\n",
    "import matplotlib.pyplot as plt\n",
    "import matplotlib as mpl\n",
    "from mpl_toolkits.mplot3d import Axes3D\n",
    "from matplotlib import cm"
   ]
  },
  {
   "cell_type": "code",
   "execution_count": null,
   "metadata": {},
   "outputs": [],
   "source": []
  },
  {
   "cell_type": "code",
   "execution_count": null,
   "metadata": {},
   "outputs": [],
   "source": []
  },
  {
   "cell_type": "markdown",
   "metadata": {},
   "source": [
    "Game을 실행하는 start 함수 : 사용자가 직접 게임을 한다면, 초기 카드와 포지션에 대한 입력, 각 판당 결과와 승률 출력\n",
    "각 입력 시 입력 받은 값의 노출과 게임 진행 상황(total)들은 이 함수 안에서 출력 (실제 강화 학습에서는 각 게임당 결과나 진행 사항을 출력할 필요없음)\n",
    "\n",
    "Game을 진행하는 play 함수 : 실행 시에나 학습 시 직접 게임이 돌아가는 건 play로 구현. 나중에 강화 학습에서 agent가 될 부분. start를 실행하여 입력 받은 포지션에 따라서 play 함수를 호출하여 hit을 입력 받을 시에 사용자의 게임을 진행하고, stick을 입력 받을 시에 딜러의 게임을 자동으로 진행하여 게임 결과를 도출\n",
    "\n",
    "* play를 시작하면 player와 dealer의 초기 카드 초기화\n",
    "\n",
    "강화 학습 사용 시 class를 생성하여 학습 횟수를 입력 받을 때, 그 횟수만큼 학습을 진행하고 강화된 전략을 반영할 수 있어야 함\n",
    "user가 사용할 때랑 학습을 할 때의 전략을 구분?? \n",
    "\n",
    "Game을 play할 때 card를 draw하는 함수, 각 진행 사항마다 total 값 출력, 한 판이 끝날 때 마다 게임 결과와 승무패를 반영하여 저장,"
   ]
  },
  {
   "cell_type": "markdown",
   "metadata": {},
   "source": [
    "\n",
    "1. Implementation of Easy21\n",
    "\n",
    "step 함수 : state(dealer's first card 1-10 and the player's sum 1-21) s와 action(hit or stick) a을 입력 받고 다음 state s'와 reward를 return (returns a sample of the next state s' which may be terminal if the game is finished) \n",
    "; 이 함수를 model-free RL의 environment로 사용할 것임. (there's no transition matrix for MDP)\n",
    "\n",
    "* dealer의 전략은 환경의 일부로 다루어야 함. 즉, stick에 대한 action을 입력 받게 되면, dealer가 게임을 시작하고 final reward와 terminal state를 return\n",
    "\n",
    "\n"
   ]
  },
  {
   "cell_type": "code",
   "execution_count": 2,
   "metadata": {},
   "outputs": [],
   "source": [
    "class State(object):\n",
    "    def __init__(self):\n",
    "        self.count = {'state': 0, 'hit': 0, 'stick': 0}\n",
    "        self.action_value = {'hit':0, 'stick':0} # state value는 사용하지 않아도 되나? 사용할 경우 self.state_value 추가\n"
   ]
  },
  {
   "cell_type": "markdown",
   "metadata": {},
   "source": [
    "state를 class로 관리하는데, 기본적으로 state는 tuple로 (dealer_card, player_total)의 형태로 구분한다.\n",
    "\n",
    "state 안에 또 class를 두어 각 state의 visit 횟수, 각 state에서 action(hit or stick)을 선택한 횟수, state value, action value를 관리한다."
   ]
  },
  {
   "cell_type": "code",
   "execution_count": 3,
   "metadata": {},
   "outputs": [],
   "source": [
    "def step(state, action):\n",
    "    \n",
    "    \"\"\"\n",
    "    Args:\n",
    "        state (tuple) : represent dealer_card and player_total in form of tuple (dealer_card, player_total)\n",
    "                       state - dealer's first card 1-10 and the player's sum 1-21\n",
    "        acntion (str) : 'hit' or 'stick'\n",
    "    \n",
    "    returns:\n",
    "        state (tuple) : next state determined by input action. It could be terminal\n",
    "        reward (int) : player's win +1, tie 0, lose -1\n",
    "    \"\"\"\n",
    "    \n",
    "    \n",
    "    if action == 'hit':\n",
    "        card = _draw_card()\n",
    "        \n",
    "        # update player's total \n",
    "        if card[1] == 'BLACK':\n",
    "            next_state = (state[0], state[1] + card[0])\n",
    "        elif card[1] == 'RED':\n",
    "            next_state = (state[0], state[1] - card[0])\n",
    "        \n",
    "        # calculate reward\n",
    "        if next_state[1] > 21 or next_state[1] < 1:\n",
    "            reward = -1\n",
    "        else:\n",
    "            reward = 0\n",
    "            \n",
    "    elif action == 'stick':\n",
    "        # dealer's play\n",
    "        while True:\n",
    "            card = _draw_card()\n",
    "            if card[1] == 'BLACK':\n",
    "                next_state = (state[0] + card[0], state[1])\n",
    "            elif card[1] == 'RED':\n",
    "                next_state = (state[0] - card[0], state[1])\n",
    "            \n",
    "            if next_state[0] >= 17 or next_state[0] < 1:\n",
    "                break\n",
    "            else:\n",
    "                continue\n",
    "\n",
    "        # calculate reward \n",
    "        if next_state[0] > 21 or next_state[0] < 1:\n",
    "            reward = 1\n",
    "        elif next_state[0] < next_state[1]:\n",
    "            reward = 1\n",
    "        elif next_state[0] > next_state[1]:\n",
    "            reward = -1\n",
    "        elif next_state[0] == next_state[0]:\n",
    "            reward = 0\n",
    "\n",
    "    return next_state, reward"
   ]
  },
  {
   "cell_type": "code",
   "execution_count": 4,
   "metadata": {},
   "outputs": [],
   "source": [
    "def _draw_card():\n",
    "    rand_number = random.randrange(1,11)\n",
    "    color_number = random.randrange(1,4)\n",
    "    \n",
    "    if color_number == 1:\n",
    "        color = 'RED'\n",
    "    else:\n",
    "        color = 'BLACK'\n",
    "    \n",
    "    return (rand_number, color)"
   ]
  },
  {
   "cell_type": "code",
   "execution_count": 5,
   "metadata": {},
   "outputs": [],
   "source": [
    "def epsilon_greedy_policy(state):\n",
    "    # N_0 is constant. Feel free to choose an alternative value for N0, if it helps producing better results.\n",
    "    N_constant = 100\n",
    "    \n",
    "    random_action = random.random()\n",
    "    epsilon = N_constant / (N_constant + state_dict[state].count['state'])\n",
    "    if state_dict[state].action_value['hit'] > state_dict[state].action_value['stick']:\n",
    "        hit_prob = (epsilon / 2) + 1 - epsilon\n",
    "        #stick_prob = 1 - hit_prob\n",
    "    else:\n",
    "        hit_prob = (epsilon / 2)\n",
    "    \n",
    "    if random_action < hit_prob:\n",
    "        action = 'hit'\n",
    "    else:\n",
    "        action = 'stick'\n",
    "    \n",
    "    return action"
   ]
  },
  {
   "cell_type": "code",
   "execution_count": 126,
   "metadata": {
    "scrolled": true
   },
   "outputs": [
    {
     "ename": "TypeError",
     "evalue": "metaclass conflict: the metaclass of a derived class must be a (non-strict) subclass of the metaclasses of all its bases",
     "output_type": "error",
     "traceback": [
      "\u001b[0;31m---------------------------------------------------------------------------\u001b[0m",
      "\u001b[0;31mTypeError\u001b[0m                                 Traceback (most recent call last)",
      "\u001b[0;32m<ipython-input-126-ca2ec7f8bec4>\u001b[0m in \u001b[0;36m<module>\u001b[0;34m()\u001b[0m\n\u001b[0;32m----> 1\u001b[0;31m \u001b[0;32mclass\u001b[0m \u001b[0mAgent\u001b[0m\u001b[0;34m(\u001b[0m\u001b[0mobject\u001b[0m\u001b[0;34m,\u001b[0m \u001b[0mnumber_of_learning\u001b[0m\u001b[0;34m)\u001b[0m\u001b[0;34m:\u001b[0m\u001b[0;34m\u001b[0m\u001b[0m\n\u001b[0m\u001b[1;32m      2\u001b[0m \u001b[0;34m\u001b[0m\u001b[0m\n\u001b[1;32m      3\u001b[0m     \u001b[0;32mclass\u001b[0m \u001b[0mState\u001b[0m\u001b[0;34m(\u001b[0m\u001b[0mobject\u001b[0m\u001b[0;34m)\u001b[0m\u001b[0;34m:\u001b[0m\u001b[0;34m\u001b[0m\u001b[0m\n\u001b[1;32m      4\u001b[0m         \u001b[0;32mdef\u001b[0m \u001b[0m__init__\u001b[0m\u001b[0;34m(\u001b[0m\u001b[0mself\u001b[0m\u001b[0;34m)\u001b[0m\u001b[0;34m:\u001b[0m\u001b[0;34m\u001b[0m\u001b[0m\n\u001b[1;32m      5\u001b[0m             \u001b[0mself\u001b[0m\u001b[0;34m.\u001b[0m\u001b[0mcount\u001b[0m \u001b[0;34m=\u001b[0m \u001b[0;34m{\u001b[0m\u001b[0;34m'state'\u001b[0m\u001b[0;34m:\u001b[0m \u001b[0;36m0\u001b[0m\u001b[0;34m,\u001b[0m \u001b[0;34m'hit'\u001b[0m\u001b[0;34m:\u001b[0m \u001b[0;36m0\u001b[0m\u001b[0;34m,\u001b[0m \u001b[0;34m'stick'\u001b[0m\u001b[0;34m:\u001b[0m \u001b[0;36m0\u001b[0m\u001b[0;34m}\u001b[0m\u001b[0;34m\u001b[0m\u001b[0m\n",
      "\u001b[0;31mTypeError\u001b[0m: metaclass conflict: the metaclass of a derived class must be a (non-strict) subclass of the metaclasses of all its bases"
     ]
    }
   ],
   "source": [
    "\n",
    "        "
   ]
  },
  {
   "cell_type": "code",
   "execution_count": 6,
   "metadata": {},
   "outputs": [],
   "source": [
    "state_dict = {} # initialization 초기화\n",
    "\n",
    "for dealer_card in range(1, 11):\n",
    "    for player_total in range(1, 22):\n",
    "        state_dict[(dealer_card, player_total)] = State()\n"
   ]
  },
  {
   "cell_type": "code",
   "execution_count": 7,
   "metadata": {},
   "outputs": [],
   "source": [
    "number_of_learning = 1000 # 학습 횟수\n",
    " \n",
    "for num in range(0, number_of_learning):\n",
    "    initial_state = (random.randrange(1,11), random.randrange(1,22))\n",
    "    initial_action = epsilon_greedy_policy(initial_state)\n",
    "    cur_state = initial_state\n",
    "    cur_action = initial_action\n",
    "    state_dict[cur_state].count['state'] += 1\n",
    "    state_dict[cur_state].count[cur_action] += 1\n",
    "    \n",
    "    # terminal state까지 반복\n",
    "    while True:  \n",
    "        (next_state, reward) = step(cur_state, cur_action)\n",
    "        if cur_action == 'stick' or reward == -1 : # terminal state\n",
    "            break\n",
    "        else:\n",
    "            cur_state = next_state\n",
    "            cur_action = epsilon_greedy_policy(next_state)\n",
    "            state_dict[cur_state].count['state'] += 1\n",
    "            state_dict[cur_state].count[cur_action] += 1\n",
    "            continue\n",
    "    \n",
    "    # Q value update\n",
    "    \"\"\"Monte-Carlo Control\n",
    "    N(S_t, A_t) = N(S_t, A_t) + 1 # 위에서 처리\n",
    "    Q(S_t, A_t) = Q(S_t, A_t) + 1/N(S_t, A_t) * (G_t - Q(S_t, A_t) )\n",
    "    \"\"\"\n",
    "    #temp_state = cur_state\n",
    "    #temp_action = cur_action \n",
    "    state_dict[initial_state].action_value[initial_action] = state_dict[initial_state].action_value[initial_action] + 1 / state_dict[initial_state].count[initial_action] * ( reward - state_dict[initial_state].action_value[initial_action] )\n",
    "        "
   ]
  },
  {
   "cell_type": "markdown",
   "metadata": {},
   "source": [
    "# state-action pair의 visit count를 update할 때 고려해야할 사항\n",
    "\n",
    "- terminal state에 도달하는 경우\n",
    "    - 즉, stick을 했거나, hit을 해서 bust가 일어난 경우에는 기존에 다루지 않는 state들이 나온다. (예를 들어 (-9, 1)과 같이)\n",
    "    - 이 경우 visit count를 update할 필요가 없다. \n",
    "\n",
    "- reward(or return G)를 계산하는 방법\n",
    "    - bust가 일어나지 않고, stick을 하지 않는 경우 (stick을 하면 무조건 reward가 나온다. 1이든 0이든 -1이든) \n",
    "    - terminal에 도달하기 전에 intermediate state에서는 reward가 항상 0이므로, \n",
    "    - 하나의 episode를 무조건 terminal까지 뽑아서 reward가 나오면 Q value를 update한다.\n",
    "\n",
    "*** reward가 나오면 나오기 전 state-action에 update? / 아니면 initial state-action pair에 update?\n",
    "- MC니까 terminal까지의 return (total reward) G_t를 생각하면 initial state-action pair에 update하는게 맞음!\n"
   ]
  },
  {
   "cell_type": "code",
   "execution_count": 8,
   "metadata": {
    "scrolled": true
   },
   "outputs": [
    {
     "data": {
      "text/plain": [
       "({'hit': 5, 'state': 6, 'stick': 1}, {'hit': 0.0, 'stick': 1.0})"
      ]
     },
     "execution_count": 8,
     "metadata": {},
     "output_type": "execute_result"
    }
   ],
   "source": [
    "state_dict[(1, 21)].count, state_dict[(1,21)].action_value"
   ]
  },
  {
   "cell_type": "code",
   "execution_count": 9,
   "metadata": {},
   "outputs": [
    {
     "data": {
      "text/plain": [
       "({'hit': 3, 'state': 5, 'stick': 2}, {'hit': -1.0, 'stick': 0.5})"
      ]
     },
     "execution_count": 9,
     "metadata": {},
     "output_type": "execute_result"
    }
   ],
   "source": [
    "state_dict[(2, 21)].count, state_dict[(2, 21)].action_value "
   ]
  },
  {
   "cell_type": "code",
   "execution_count": 10,
   "metadata": {},
   "outputs": [
    {
     "data": {
      "text/plain": [
       "({'hit': 2, 'state': 4, 'stick': 2}, {'hit': -0.5, 'stick': 1.0})"
      ]
     },
     "execution_count": 10,
     "metadata": {},
     "output_type": "execute_result"
    }
   ],
   "source": [
    "state_dict[(3, 21)].count, state_dict[(3, 21)].action_value "
   ]
  },
  {
   "cell_type": "code",
   "execution_count": 11,
   "metadata": {},
   "outputs": [
    {
     "data": {
      "text/plain": [
       "({'hit': 4, 'state': 13, 'stick': 9},\n",
       " {'hit': -1.0, 'stick': 0.8333333333333334})"
      ]
     },
     "execution_count": 11,
     "metadata": {},
     "output_type": "execute_result"
    }
   ],
   "source": [
    "state_dict[(4, 21)].count, state_dict[(4, 21)].action_value "
   ]
  },
  {
   "cell_type": "code",
   "execution_count": 12,
   "metadata": {},
   "outputs": [
    {
     "data": {
      "text/plain": [
       "({'hit': 6, 'state': 12, 'stick': 6},\n",
       " {'hit': 0.2, 'stick': 0.8333333333333334})"
      ]
     },
     "execution_count": 12,
     "metadata": {},
     "output_type": "execute_result"
    }
   ],
   "source": [
    "state_dict[(5, 21)].count, state_dict[(5, 21)].action_value "
   ]
  },
  {
   "cell_type": "code",
   "execution_count": 13,
   "metadata": {},
   "outputs": [
    {
     "data": {
      "text/plain": [
       "({'hit': 1, 'state': 5, 'stick': 4}, {'hit': -1.0, 'stick': 0.75})"
      ]
     },
     "execution_count": 13,
     "metadata": {},
     "output_type": "execute_result"
    }
   ],
   "source": [
    "state_dict[(5, 10)].count, state_dict[(5, 10)].action_value "
   ]
  },
  {
   "cell_type": "code",
   "execution_count": 14,
   "metadata": {
    "scrolled": true
   },
   "outputs": [
    {
     "data": {
      "text/plain": [
       "({'hit': 5, 'state': 8, 'stick': 3}, {'hit': 1.0, 'stick': 1.0})"
      ]
     },
     "execution_count": 14,
     "metadata": {},
     "output_type": "execute_result"
    }
   ],
   "source": [
    "state_dict[(5, 5)].count, state_dict[(5, 5)].action_value "
   ]
  },
  {
   "cell_type": "code",
   "execution_count": 15,
   "metadata": {},
   "outputs": [
    {
     "data": {
      "text/plain": [
       "({'hit': 1, 'state': 4, 'stick': 3}, {'hit': 0, 'stick': 0.6666666666666666})"
      ]
     },
     "execution_count": 15,
     "metadata": {},
     "output_type": "execute_result"
    }
   ],
   "source": [
    "state_dict[(1, 10)].count, state_dict[(1, 10)].action_value "
   ]
  },
  {
   "cell_type": "code",
   "execution_count": 16,
   "metadata": {},
   "outputs": [
    {
     "data": {
      "text/plain": [
       "({'hit': 2, 'state': 6, 'stick': 4}, {'hit': 0.0, 'stick': -0.5})"
      ]
     },
     "execution_count": 16,
     "metadata": {},
     "output_type": "execute_result"
    }
   ],
   "source": [
    "state_dict[(10, 1)].count, state_dict[(10, 1)].action_value "
   ]
  },
  {
   "cell_type": "code",
   "execution_count": 17,
   "metadata": {},
   "outputs": [
    {
     "data": {
      "text/plain": [
       "({'hit': 5, 'state': 10, 'stick': 5},\n",
       " {'hit': -0.25, 'stick': -0.30000000000000004})"
      ]
     },
     "execution_count": 17,
     "metadata": {},
     "output_type": "execute_result"
    }
   ],
   "source": [
    "state_dict[(9, 1)].count, state_dict[(9, 1)].action_value "
   ]
  },
  {
   "cell_type": "code",
   "execution_count": 18,
   "metadata": {},
   "outputs": [
    {
     "data": {
      "text/plain": [
       "({'hit': 3, 'state': 4, 'stick': 1},\n",
       " {'hit': -0.33333333333333337, 'stick': 1.0})"
      ]
     },
     "execution_count": 18,
     "metadata": {},
     "output_type": "execute_result"
    }
   ],
   "source": [
    "state_dict[(8, 1)].count, state_dict[(8, 1)].action_value "
   ]
  },
  {
   "cell_type": "markdown",
   "metadata": {},
   "source": [
    "처음 입력 받은 횟수만큼 학습을 한 후, 학습된 모델을 저장하여 이후에 추가 학습을 할 수 있도록 구현하는 것이 맞다.\n",
    "\n",
    "학습을 새로 시작할 때마다 모델이 초기화 되면 안된다.\n",
    "\n",
    "그러기 위해서는 agent 별로 학습을 할 수 있도록 해야한다. (변수 저장과 type의 문제)\n",
    "\n",
    "업데이트된 Q value는 함수형태로 저장하면 return과 동시에 초기화 되므로 적합하지 않다. (맞는가?)\n",
    "\n",
    "매 step또는 episode 별로 저장해서 업데이트 할 수 있어야 한다.\n",
    "\n",
    "policy를 저장하는 방법은??\n",
    "\n",
    "사실상 Q가 policy에 의해 결정되므로, 포함한다고 봐도 되나?\n",
    "\n",
    "반대로 policy도 epsilon-greedy 경우 Q만 보고 결정하면 되므로 (stochastic으로 주어지니)\n",
    "\n",
    "deterministic하게 정해서 저장할 수가 없다. \n",
    "\n",
    "특히 이 문제는 epsilon도 t에 따라 변화한다."
   ]
  },
  {
   "cell_type": "code",
   "execution_count": 107,
   "metadata": {},
   "outputs": [
    {
     "data": {
      "text/plain": [
       "{(1, 1): 0.5,\n",
       " (1, 2): 1.0,\n",
       " (1, 3): 0.33333333333333337,\n",
       " (1, 4): 0,\n",
       " (1, 5): 1.0,\n",
       " (1, 6): 1.0,\n",
       " (1, 7): 1.0,\n",
       " (1, 8): 1.0,\n",
       " (1, 9): 0.3333333333333333,\n",
       " (1, 10): 0.6666666666666666,\n",
       " (1, 11): 1.0,\n",
       " (1, 12): 1.0,\n",
       " (1, 13): 1.0,\n",
       " (1, 14): 1.0,\n",
       " (1, 15): 1.0,\n",
       " (1, 16): 1.0,\n",
       " (1, 17): 1.0,\n",
       " (1, 18): 0.0,\n",
       " (1, 19): 0,\n",
       " (1, 20): 0.7777777777777777,\n",
       " (1, 21): 1.0,\n",
       " (2, 1): 1.0,\n",
       " (2, 2): 1.0,\n",
       " (2, 3): 1.0,\n",
       " (2, 4): 1.0,\n",
       " (2, 5): 1.0,\n",
       " (2, 6): 1.0,\n",
       " (2, 7): 1.0,\n",
       " (2, 8): 1.0,\n",
       " (2, 9): 1.0,\n",
       " (2, 10): 0.7083333333333333,\n",
       " (2, 11): 0.7333333333333333,\n",
       " (2, 12): 1.0,\n",
       " (2, 13): 1.0,\n",
       " (2, 14): 0,\n",
       " (2, 15): 0.5,\n",
       " (2, 16): 0.5,\n",
       " (2, 17): 1.0,\n",
       " (2, 18): 1.0,\n",
       " (2, 19): 0.85,\n",
       " (2, 20): 1.0,\n",
       " (2, 21): 0.5,\n",
       " (3, 1): 1.0,\n",
       " (3, 2): 1.0,\n",
       " (3, 3): 1.0,\n",
       " (3, 4): 1.0,\n",
       " (3, 5): 1.0,\n",
       " (3, 6): 1.0,\n",
       " (3, 7): 1.0,\n",
       " (3, 8): 1.0,\n",
       " (3, 9): 0.6666666666666666,\n",
       " (3, 10): 1.0,\n",
       " (3, 11): 0.4,\n",
       " (3, 12): 1.0,\n",
       " (3, 13): 1.0,\n",
       " (3, 14): 0.625,\n",
       " (3, 15): 0.7333333333333333,\n",
       " (3, 16): 0.7777777777777777,\n",
       " (3, 17): 0.5714285714285714,\n",
       " (3, 18): 0.33333333333333337,\n",
       " (3, 19): 1.0,\n",
       " (3, 20): 0.5,\n",
       " (3, 21): 1.0,\n",
       " (4, 1): 1.0,\n",
       " (4, 2): 1.0,\n",
       " (4, 3): 1.0,\n",
       " (4, 4): 0.8,\n",
       " (4, 5): 1.0,\n",
       " (4, 6): 1.0,\n",
       " (4, 7): 1.0,\n",
       " (4, 8): 1.0,\n",
       " (4, 9): 1.0,\n",
       " (4, 10): 0.625,\n",
       " (4, 11): 1.0,\n",
       " (4, 12): 0.8,\n",
       " (4, 13): 0.5,\n",
       " (4, 14): 1.0,\n",
       " (4, 15): 1.0,\n",
       " (4, 16): 0.5,\n",
       " (4, 17): 0.7857142857142857,\n",
       " (4, 18): 1.0,\n",
       " (4, 19): 1.0,\n",
       " (4, 20): 0.6,\n",
       " (4, 21): 0.8333333333333334,\n",
       " (5, 1): 1.0,\n",
       " (5, 2): 1.0,\n",
       " (5, 3): 1.0,\n",
       " (5, 4): 1.0,\n",
       " (5, 5): 1.0,\n",
       " (5, 6): 1.0,\n",
       " (5, 7): 0.3333333333333333,\n",
       " (5, 8): 1.0,\n",
       " (5, 9): 1.0,\n",
       " (5, 10): 0.75,\n",
       " (5, 11): 0.33333333333333337,\n",
       " (5, 12): 0.5,\n",
       " (5, 13): 0.7142857142857143,\n",
       " (5, 14): 0.25,\n",
       " (5, 15): 1.0,\n",
       " (5, 16): 0.75,\n",
       " (5, 17): 1.0,\n",
       " (5, 18): 1.0,\n",
       " (5, 19): 0.6,\n",
       " (5, 20): 1.0,\n",
       " (5, 21): 0.8333333333333334,\n",
       " (6, 1): 0.5,\n",
       " (6, 2): 0.7321428571428571,\n",
       " (6, 3): 1.0,\n",
       " (6, 4): 1.0,\n",
       " (6, 5): 0.1111111111111111,\n",
       " (6, 6): 1.0,\n",
       " (6, 7): 1.0,\n",
       " (6, 8): 1.0,\n",
       " (6, 9): 0.5,\n",
       " (6, 10): 1.0,\n",
       " (6, 11): 0.75,\n",
       " (6, 12): 1.0,\n",
       " (6, 13): 1.0,\n",
       " (6, 14): 1.0,\n",
       " (6, 15): 1.0,\n",
       " (6, 16): 1.0,\n",
       " (6, 17): 1.0,\n",
       " (6, 18): 1.0,\n",
       " (6, 19): 1.0,\n",
       " (6, 20): 1.0,\n",
       " (6, 21): 0.625,\n",
       " (7, 1): 1.0,\n",
       " (7, 2): 0.0,\n",
       " (7, 3): 0,\n",
       " (7, 4): 0,\n",
       " (7, 5): -0.3333333333333333,\n",
       " (7, 6): 0.0,\n",
       " (7, 7): 0,\n",
       " (7, 8): 0.0,\n",
       " (7, 9): 0,\n",
       " (7, 10): -0.4,\n",
       " (7, 11): 0.0,\n",
       " (7, 12): 0.04761904761904759,\n",
       " (7, 13): 0,\n",
       " (7, 14): 0.0,\n",
       " (7, 15): 0.5,\n",
       " (7, 16): 0.0,\n",
       " (7, 17): 0.7916666666666666,\n",
       " (7, 18): 1.0,\n",
       " (7, 19): 0.75,\n",
       " (7, 20): 0.3333333333333333,\n",
       " (7, 21): 1.0,\n",
       " (8, 1): 1.0,\n",
       " (8, 2): 1.0,\n",
       " (8, 3): -1.0,\n",
       " (8, 4): 1.0,\n",
       " (8, 5): -0.5,\n",
       " (8, 6): 0.2,\n",
       " (8, 7): 0.06666666666666665,\n",
       " (8, 8): 0,\n",
       " (8, 9): 1.0,\n",
       " (8, 10): 1.0,\n",
       " (8, 11): -0.5,\n",
       " (8, 12): 0.4,\n",
       " (8, 13): -0.25,\n",
       " (8, 14): 0.5,\n",
       " (8, 15): 0,\n",
       " (8, 16): 0.6666666666666666,\n",
       " (8, 17): 0.16666666666666669,\n",
       " (8, 18): 0.6666666666666667,\n",
       " (8, 19): 1.0,\n",
       " (8, 20): 1.0,\n",
       " (8, 21): 0.625,\n",
       " (9, 1): -0.25,\n",
       " (9, 2): -0.5,\n",
       " (9, 3): -0.6666666666666666,\n",
       " (9, 4): -0.6,\n",
       " (9, 5): -0.75,\n",
       " (9, 6): 0,\n",
       " (9, 7): 0,\n",
       " (9, 8): -0.5,\n",
       " (9, 9): 1.0,\n",
       " (9, 10): -0.6666666666666666,\n",
       " (9, 11): 1.0,\n",
       " (9, 12): 0,\n",
       " (9, 13): 1.0,\n",
       " (9, 14): 0.1111111111111111,\n",
       " (9, 15): -0.4666666666666667,\n",
       " (9, 16): -1.0,\n",
       " (9, 17): 0.0,\n",
       " (9, 18): 0.2,\n",
       " (9, 19): 0.8,\n",
       " (9, 20): 0.65,\n",
       " (9, 21): 1.0,\n",
       " (10, 1): 0.0,\n",
       " (10, 2): 0.0,\n",
       " (10, 3): -0.5,\n",
       " (10, 4): -0.3333333333333333,\n",
       " (10, 5): -1.0,\n",
       " (10, 6): -0.5,\n",
       " (10, 7): 0,\n",
       " (10, 8): -0.5,\n",
       " (10, 9): 0,\n",
       " (10, 10): -1.0,\n",
       " (10, 11): 0.5,\n",
       " (10, 12): 0,\n",
       " (10, 13): -0.6666666666666666,\n",
       " (10, 14): -0.3333333333333333,\n",
       " (10, 15): 0,\n",
       " (10, 16): -0.5,\n",
       " (10, 17): -0.5833333333333334,\n",
       " (10, 18): 0,\n",
       " (10, 19): 0.0,\n",
       " (10, 20): 0.6666666666666666,\n",
       " (10, 21): 1.0}"
      ]
     },
     "execution_count": 107,
     "metadata": {},
     "output_type": "execute_result"
    }
   ],
   "source": [
    "optimal_value_dict = {}\n",
    "\n",
    "for (i, j) in state_dict.keys():\n",
    "    optimal_value_dict[(i, j)] = max(state_dict[(i, j)].action_value['hit'], state_dict[(i, j)].action_value['stick'])\n",
    "\n",
    "optimal_value_dict\n",
    "#len(optimal_value_dict)"
   ]
  },
  {
   "cell_type": "code",
   "execution_count": 108,
   "metadata": {
    "scrolled": false
   },
   "outputs": [],
   "source": [
    "x = np.arange(1,11,1)\n",
    "y = np.arange(1,22,1)\n",
    "X, Y = np.meshgrid(x, y)\n",
    "\n",
    "Z = []\n",
    "\n",
    "X, len(X)\n",
    "XT = X.T"
   ]
  },
  {
   "cell_type": "code",
   "execution_count": 120,
   "metadata": {},
   "outputs": [
    {
     "data": {
      "text/plain": [
       "array([[ 1,  2,  3,  4,  5,  6,  7,  8,  9, 10],\n",
       "       [ 1,  2,  3,  4,  5,  6,  7,  8,  9, 10],\n",
       "       [ 1,  2,  3,  4,  5,  6,  7,  8,  9, 10],\n",
       "       [ 1,  2,  3,  4,  5,  6,  7,  8,  9, 10],\n",
       "       [ 1,  2,  3,  4,  5,  6,  7,  8,  9, 10],\n",
       "       [ 1,  2,  3,  4,  5,  6,  7,  8,  9, 10],\n",
       "       [ 1,  2,  3,  4,  5,  6,  7,  8,  9, 10],\n",
       "       [ 1,  2,  3,  4,  5,  6,  7,  8,  9, 10],\n",
       "       [ 1,  2,  3,  4,  5,  6,  7,  8,  9, 10],\n",
       "       [ 1,  2,  3,  4,  5,  6,  7,  8,  9, 10],\n",
       "       [ 1,  2,  3,  4,  5,  6,  7,  8,  9, 10],\n",
       "       [ 1,  2,  3,  4,  5,  6,  7,  8,  9, 10],\n",
       "       [ 1,  2,  3,  4,  5,  6,  7,  8,  9, 10],\n",
       "       [ 1,  2,  3,  4,  5,  6,  7,  8,  9, 10],\n",
       "       [ 1,  2,  3,  4,  5,  6,  7,  8,  9, 10],\n",
       "       [ 1,  2,  3,  4,  5,  6,  7,  8,  9, 10],\n",
       "       [ 1,  2,  3,  4,  5,  6,  7,  8,  9, 10],\n",
       "       [ 1,  2,  3,  4,  5,  6,  7,  8,  9, 10],\n",
       "       [ 1,  2,  3,  4,  5,  6,  7,  8,  9, 10],\n",
       "       [ 1,  2,  3,  4,  5,  6,  7,  8,  9, 10],\n",
       "       [ 1,  2,  3,  4,  5,  6,  7,  8,  9, 10]])"
      ]
     },
     "execution_count": 120,
     "metadata": {},
     "output_type": "execute_result"
    }
   ],
   "source": [
    "X"
   ]
  },
  {
   "cell_type": "code",
   "execution_count": 109,
   "metadata": {
    "scrolled": true
   },
   "outputs": [
    {
     "data": {
      "text/plain": [
       "(array([[ 1,  1,  1,  1,  1,  1,  1,  1,  1,  1],\n",
       "        [ 2,  2,  2,  2,  2,  2,  2,  2,  2,  2],\n",
       "        [ 3,  3,  3,  3,  3,  3,  3,  3,  3,  3],\n",
       "        [ 4,  4,  4,  4,  4,  4,  4,  4,  4,  4],\n",
       "        [ 5,  5,  5,  5,  5,  5,  5,  5,  5,  5],\n",
       "        [ 6,  6,  6,  6,  6,  6,  6,  6,  6,  6],\n",
       "        [ 7,  7,  7,  7,  7,  7,  7,  7,  7,  7],\n",
       "        [ 8,  8,  8,  8,  8,  8,  8,  8,  8,  8],\n",
       "        [ 9,  9,  9,  9,  9,  9,  9,  9,  9,  9],\n",
       "        [10, 10, 10, 10, 10, 10, 10, 10, 10, 10],\n",
       "        [11, 11, 11, 11, 11, 11, 11, 11, 11, 11],\n",
       "        [12, 12, 12, 12, 12, 12, 12, 12, 12, 12],\n",
       "        [13, 13, 13, 13, 13, 13, 13, 13, 13, 13],\n",
       "        [14, 14, 14, 14, 14, 14, 14, 14, 14, 14],\n",
       "        [15, 15, 15, 15, 15, 15, 15, 15, 15, 15],\n",
       "        [16, 16, 16, 16, 16, 16, 16, 16, 16, 16],\n",
       "        [17, 17, 17, 17, 17, 17, 17, 17, 17, 17],\n",
       "        [18, 18, 18, 18, 18, 18, 18, 18, 18, 18],\n",
       "        [19, 19, 19, 19, 19, 19, 19, 19, 19, 19],\n",
       "        [20, 20, 20, 20, 20, 20, 20, 20, 20, 20],\n",
       "        [21, 21, 21, 21, 21, 21, 21, 21, 21, 21]]), 21)"
      ]
     },
     "execution_count": 109,
     "metadata": {},
     "output_type": "execute_result"
    }
   ],
   "source": [
    "Y, len(Y)"
   ]
  },
  {
   "cell_type": "code",
   "execution_count": 110,
   "metadata": {},
   "outputs": [],
   "source": [
    "Z = np.zeros((10, 21))"
   ]
  },
  {
   "cell_type": "code",
   "execution_count": 111,
   "metadata": {},
   "outputs": [
    {
     "data": {
      "text/plain": [
       "210"
      ]
     },
     "execution_count": 111,
     "metadata": {},
     "output_type": "execute_result"
    }
   ],
   "source": [
    "len(optimal_value_dict.keys())"
   ]
  },
  {
   "cell_type": "code",
   "execution_count": null,
   "metadata": {},
   "outputs": [],
   "source": []
  },
  {
   "cell_type": "code",
   "execution_count": 112,
   "metadata": {},
   "outputs": [
    {
     "data": {
      "text/plain": [
       "{(1, 1): 0.5,\n",
       " (1, 2): 1.0,\n",
       " (1, 3): 0.33333333333333337,\n",
       " (1, 4): 0,\n",
       " (1, 5): 1.0,\n",
       " (1, 6): 1.0,\n",
       " (1, 7): 1.0,\n",
       " (1, 8): 1.0,\n",
       " (1, 9): 0.3333333333333333,\n",
       " (1, 10): 0.6666666666666666,\n",
       " (1, 11): 1.0,\n",
       " (1, 12): 1.0,\n",
       " (1, 13): 1.0,\n",
       " (1, 14): 1.0,\n",
       " (1, 15): 1.0,\n",
       " (1, 16): 1.0,\n",
       " (1, 17): 1.0,\n",
       " (1, 18): 0.0,\n",
       " (1, 19): 0,\n",
       " (1, 20): 0.7777777777777777,\n",
       " (1, 21): 1.0,\n",
       " (2, 1): 1.0,\n",
       " (2, 2): 1.0,\n",
       " (2, 3): 1.0,\n",
       " (2, 4): 1.0,\n",
       " (2, 5): 1.0,\n",
       " (2, 6): 1.0,\n",
       " (2, 7): 1.0,\n",
       " (2, 8): 1.0,\n",
       " (2, 9): 1.0,\n",
       " (2, 10): 0.7083333333333333,\n",
       " (2, 11): 0.7333333333333333,\n",
       " (2, 12): 1.0,\n",
       " (2, 13): 1.0,\n",
       " (2, 14): 0,\n",
       " (2, 15): 0.5,\n",
       " (2, 16): 0.5,\n",
       " (2, 17): 1.0,\n",
       " (2, 18): 1.0,\n",
       " (2, 19): 0.85,\n",
       " (2, 20): 1.0,\n",
       " (2, 21): 0.5,\n",
       " (3, 1): 1.0,\n",
       " (3, 2): 1.0,\n",
       " (3, 3): 1.0,\n",
       " (3, 4): 1.0,\n",
       " (3, 5): 1.0,\n",
       " (3, 6): 1.0,\n",
       " (3, 7): 1.0,\n",
       " (3, 8): 1.0,\n",
       " (3, 9): 0.6666666666666666,\n",
       " (3, 10): 1.0,\n",
       " (3, 11): 0.4,\n",
       " (3, 12): 1.0,\n",
       " (3, 13): 1.0,\n",
       " (3, 14): 0.625,\n",
       " (3, 15): 0.7333333333333333,\n",
       " (3, 16): 0.7777777777777777,\n",
       " (3, 17): 0.5714285714285714,\n",
       " (3, 18): 0.33333333333333337,\n",
       " (3, 19): 1.0,\n",
       " (3, 20): 0.5,\n",
       " (3, 21): 1.0,\n",
       " (4, 1): 1.0,\n",
       " (4, 2): 1.0,\n",
       " (4, 3): 1.0,\n",
       " (4, 4): 0.8,\n",
       " (4, 5): 1.0,\n",
       " (4, 6): 1.0,\n",
       " (4, 7): 1.0,\n",
       " (4, 8): 1.0,\n",
       " (4, 9): 1.0,\n",
       " (4, 10): 0.625,\n",
       " (4, 11): 1.0,\n",
       " (4, 12): 0.8,\n",
       " (4, 13): 0.5,\n",
       " (4, 14): 1.0,\n",
       " (4, 15): 1.0,\n",
       " (4, 16): 0.5,\n",
       " (4, 17): 0.7857142857142857,\n",
       " (4, 18): 1.0,\n",
       " (4, 19): 1.0,\n",
       " (4, 20): 0.6,\n",
       " (4, 21): 0.8333333333333334,\n",
       " (5, 1): 1.0,\n",
       " (5, 2): 1.0,\n",
       " (5, 3): 1.0,\n",
       " (5, 4): 1.0,\n",
       " (5, 5): 1.0,\n",
       " (5, 6): 1.0,\n",
       " (5, 7): 0.3333333333333333,\n",
       " (5, 8): 1.0,\n",
       " (5, 9): 1.0,\n",
       " (5, 10): 0.75,\n",
       " (5, 11): 0.33333333333333337,\n",
       " (5, 12): 0.5,\n",
       " (5, 13): 0.7142857142857143,\n",
       " (5, 14): 0.25,\n",
       " (5, 15): 1.0,\n",
       " (5, 16): 0.75,\n",
       " (5, 17): 1.0,\n",
       " (5, 18): 1.0,\n",
       " (5, 19): 0.6,\n",
       " (5, 20): 1.0,\n",
       " (5, 21): 0.8333333333333334,\n",
       " (6, 1): 0.5,\n",
       " (6, 2): 0.7321428571428571,\n",
       " (6, 3): 1.0,\n",
       " (6, 4): 1.0,\n",
       " (6, 5): 0.1111111111111111,\n",
       " (6, 6): 1.0,\n",
       " (6, 7): 1.0,\n",
       " (6, 8): 1.0,\n",
       " (6, 9): 0.5,\n",
       " (6, 10): 1.0,\n",
       " (6, 11): 0.75,\n",
       " (6, 12): 1.0,\n",
       " (6, 13): 1.0,\n",
       " (6, 14): 1.0,\n",
       " (6, 15): 1.0,\n",
       " (6, 16): 1.0,\n",
       " (6, 17): 1.0,\n",
       " (6, 18): 1.0,\n",
       " (6, 19): 1.0,\n",
       " (6, 20): 1.0,\n",
       " (6, 21): 0.625,\n",
       " (7, 1): 1.0,\n",
       " (7, 2): 0.0,\n",
       " (7, 3): 0,\n",
       " (7, 4): 0,\n",
       " (7, 5): -0.3333333333333333,\n",
       " (7, 6): 0.0,\n",
       " (7, 7): 0,\n",
       " (7, 8): 0.0,\n",
       " (7, 9): 0,\n",
       " (7, 10): -0.4,\n",
       " (7, 11): 0.0,\n",
       " (7, 12): 0.04761904761904759,\n",
       " (7, 13): 0,\n",
       " (7, 14): 0.0,\n",
       " (7, 15): 0.5,\n",
       " (7, 16): 0.0,\n",
       " (7, 17): 0.7916666666666666,\n",
       " (7, 18): 1.0,\n",
       " (7, 19): 0.75,\n",
       " (7, 20): 0.3333333333333333,\n",
       " (7, 21): 1.0,\n",
       " (8, 1): 1.0,\n",
       " (8, 2): 1.0,\n",
       " (8, 3): -1.0,\n",
       " (8, 4): 1.0,\n",
       " (8, 5): -0.5,\n",
       " (8, 6): 0.2,\n",
       " (8, 7): 0.06666666666666665,\n",
       " (8, 8): 0,\n",
       " (8, 9): 1.0,\n",
       " (8, 10): 1.0,\n",
       " (8, 11): -0.5,\n",
       " (8, 12): 0.4,\n",
       " (8, 13): -0.25,\n",
       " (8, 14): 0.5,\n",
       " (8, 15): 0,\n",
       " (8, 16): 0.6666666666666666,\n",
       " (8, 17): 0.16666666666666669,\n",
       " (8, 18): 0.6666666666666667,\n",
       " (8, 19): 1.0,\n",
       " (8, 20): 1.0,\n",
       " (8, 21): 0.625,\n",
       " (9, 1): -0.25,\n",
       " (9, 2): -0.5,\n",
       " (9, 3): -0.6666666666666666,\n",
       " (9, 4): -0.6,\n",
       " (9, 5): -0.75,\n",
       " (9, 6): 0,\n",
       " (9, 7): 0,\n",
       " (9, 8): -0.5,\n",
       " (9, 9): 1.0,\n",
       " (9, 10): -0.6666666666666666,\n",
       " (9, 11): 1.0,\n",
       " (9, 12): 0,\n",
       " (9, 13): 1.0,\n",
       " (9, 14): 0.1111111111111111,\n",
       " (9, 15): -0.4666666666666667,\n",
       " (9, 16): -1.0,\n",
       " (9, 17): 0.0,\n",
       " (9, 18): 0.2,\n",
       " (9, 19): 0.8,\n",
       " (9, 20): 0.65,\n",
       " (9, 21): 1.0,\n",
       " (10, 1): 0.0,\n",
       " (10, 2): 0.0,\n",
       " (10, 3): -0.5,\n",
       " (10, 4): -0.3333333333333333,\n",
       " (10, 5): -1.0,\n",
       " (10, 6): -0.5,\n",
       " (10, 7): 0,\n",
       " (10, 8): -0.5,\n",
       " (10, 9): 0,\n",
       " (10, 10): -1.0,\n",
       " (10, 11): 0.5,\n",
       " (10, 12): 0,\n",
       " (10, 13): -0.6666666666666666,\n",
       " (10, 14): -0.3333333333333333,\n",
       " (10, 15): 0,\n",
       " (10, 16): -0.5,\n",
       " (10, 17): -0.5833333333333334,\n",
       " (10, 18): 0,\n",
       " (10, 19): 0.0,\n",
       " (10, 20): 0.6666666666666666,\n",
       " (10, 21): 1.0}"
      ]
     },
     "execution_count": 112,
     "metadata": {},
     "output_type": "execute_result"
    }
   ],
   "source": [
    "optimal_value_dict"
   ]
  },
  {
   "cell_type": "code",
   "execution_count": 113,
   "metadata": {},
   "outputs": [],
   "source": [
    "for i in range(0, 10):\n",
    "    for j in range(0, 21):\n",
    "        Z[i][j] = optimal_value_dict[(i+1,j+1)]\n",
    "    #print(i), print(j)\n",
    "    \n",
    "    #Z.append(optimal_value_dict[(i,j)])\n",
    "    #Z[i][j] = optimal_value_dict[(i,j)]\n",
    "\n",
    "#len(Z)\n",
    "#Z = np.array(optimal_value_dict.values()).reshape(10,21)\n",
    "\n"
   ]
  },
  {
   "cell_type": "code",
   "execution_count": 116,
   "metadata": {},
   "outputs": [
    {
     "data": {
      "text/plain": [
       "numpy.ndarray"
      ]
     },
     "execution_count": 116,
     "metadata": {},
     "output_type": "execute_result"
    }
   ],
   "source": []
  },
  {
   "cell_type": "code",
   "execution_count": null,
   "metadata": {},
   "outputs": [],
   "source": []
  },
  {
   "cell_type": "code",
   "execution_count": 117,
   "metadata": {
    "scrolled": true
   },
   "outputs": [
    {
     "data": {
      "text/plain": [
       "(10, 21, 10)"
      ]
     },
     "execution_count": 117,
     "metadata": {},
     "output_type": "execute_result"
    }
   ],
   "source": [
    "len(XT), len(Y), len(Z)"
   ]
  },
  {
   "cell_type": "code",
   "execution_count": 119,
   "metadata": {},
   "outputs": [
    {
     "ename": "ValueError",
     "evalue": "shape mismatch: objects cannot be broadcast to a single shape",
     "output_type": "error",
     "traceback": [
      "\u001b[0;31m---------------------------------------------------------------------------\u001b[0m",
      "\u001b[0;31mValueError\u001b[0m                                Traceback (most recent call last)",
      "\u001b[0;32m<ipython-input-119-334a0563fe05>\u001b[0m in \u001b[0;36m<module>\u001b[0;34m()\u001b[0m\n\u001b[1;32m      1\u001b[0m \u001b[0mfig\u001b[0m \u001b[0;34m=\u001b[0m \u001b[0mplt\u001b[0m\u001b[0;34m.\u001b[0m\u001b[0mfigure\u001b[0m\u001b[0;34m(\u001b[0m\u001b[0;34m)\u001b[0m\u001b[0;34m\u001b[0m\u001b[0m\n\u001b[1;32m      2\u001b[0m \u001b[0max\u001b[0m \u001b[0;34m=\u001b[0m \u001b[0mfig\u001b[0m\u001b[0;34m.\u001b[0m\u001b[0mgca\u001b[0m\u001b[0;34m(\u001b[0m\u001b[0mprojection\u001b[0m\u001b[0;34m=\u001b[0m\u001b[0;34m'3d'\u001b[0m\u001b[0;34m)\u001b[0m\u001b[0;34m\u001b[0m\u001b[0m\n\u001b[0;32m----> 3\u001b[0;31m \u001b[0msurf\u001b[0m \u001b[0;34m=\u001b[0m \u001b[0max\u001b[0m\u001b[0;34m.\u001b[0m\u001b[0mplot_surface\u001b[0m\u001b[0;34m(\u001b[0m\u001b[0mX\u001b[0m\u001b[0;34m,\u001b[0m \u001b[0mY\u001b[0m\u001b[0;34m,\u001b[0m \u001b[0mZ\u001b[0m\u001b[0;34m,\u001b[0m \u001b[0mrstride\u001b[0m\u001b[0;34m=\u001b[0m\u001b[0;36m1\u001b[0m\u001b[0;34m,\u001b[0m \u001b[0mcstride\u001b[0m\u001b[0;34m=\u001b[0m\u001b[0;36m1\u001b[0m\u001b[0;34m,\u001b[0m \u001b[0mcmap\u001b[0m\u001b[0;34m=\u001b[0m\u001b[0mcm\u001b[0m\u001b[0;34m.\u001b[0m\u001b[0mwinter\u001b[0m\u001b[0;34m,\u001b[0m \u001b[0mlinewidth\u001b[0m\u001b[0;34m=\u001b[0m\u001b[0;36m0\u001b[0m\u001b[0;34m,\u001b[0m \u001b[0mantialiased\u001b[0m\u001b[0;34m=\u001b[0m\u001b[0;32mTrue\u001b[0m\u001b[0;34m)\u001b[0m\u001b[0;34m\u001b[0m\u001b[0m\n\u001b[0m\u001b[1;32m      4\u001b[0m \u001b[0max\u001b[0m\u001b[0;34m.\u001b[0m\u001b[0mset_zlim\u001b[0m\u001b[0;34m(\u001b[0m\u001b[0;36m0\u001b[0m\u001b[0;34m,\u001b[0m \u001b[0;36m900000\u001b[0m\u001b[0;34m)\u001b[0m\u001b[0;34m\u001b[0m\u001b[0m\n\u001b[1;32m      5\u001b[0m \u001b[0;34m\u001b[0m\u001b[0m\n",
      "\u001b[0;32m~/.pyenv/versions/anaconda3-5.1.0/lib/python3.6/site-packages/mpl_toolkits/mplot3d/axes3d.py\u001b[0m in \u001b[0;36mplot_surface\u001b[0;34m(self, X, Y, Z, *args, **kwargs)\u001b[0m\n\u001b[1;32m   1622\u001b[0m             \u001b[0;32mraise\u001b[0m \u001b[0mValueError\u001b[0m\u001b[0;34m(\u001b[0m\u001b[0;34m\"Argument Z must be 2-dimensional.\"\u001b[0m\u001b[0;34m)\u001b[0m\u001b[0;34m\u001b[0m\u001b[0m\n\u001b[1;32m   1623\u001b[0m         \u001b[0;31m# TODO: Support masked arrays\u001b[0m\u001b[0;34m\u001b[0m\u001b[0;34m\u001b[0m\u001b[0m\n\u001b[0;32m-> 1624\u001b[0;31m         \u001b[0mX\u001b[0m\u001b[0;34m,\u001b[0m \u001b[0mY\u001b[0m\u001b[0;34m,\u001b[0m \u001b[0mZ\u001b[0m \u001b[0;34m=\u001b[0m \u001b[0mnp\u001b[0m\u001b[0;34m.\u001b[0m\u001b[0mbroadcast_arrays\u001b[0m\u001b[0;34m(\u001b[0m\u001b[0mX\u001b[0m\u001b[0;34m,\u001b[0m \u001b[0mY\u001b[0m\u001b[0;34m,\u001b[0m \u001b[0mZ\u001b[0m\u001b[0;34m)\u001b[0m\u001b[0;34m\u001b[0m\u001b[0m\n\u001b[0m\u001b[1;32m   1625\u001b[0m         \u001b[0mrows\u001b[0m\u001b[0;34m,\u001b[0m \u001b[0mcols\u001b[0m \u001b[0;34m=\u001b[0m \u001b[0mZ\u001b[0m\u001b[0;34m.\u001b[0m\u001b[0mshape\u001b[0m\u001b[0;34m\u001b[0m\u001b[0m\n\u001b[1;32m   1626\u001b[0m \u001b[0;34m\u001b[0m\u001b[0m\n",
      "\u001b[0;32m~/.pyenv/versions/anaconda3-5.1.0/lib/python3.6/site-packages/numpy/lib/stride_tricks.py\u001b[0m in \u001b[0;36mbroadcast_arrays\u001b[0;34m(*args, **kwargs)\u001b[0m\n\u001b[1;32m    247\u001b[0m     \u001b[0margs\u001b[0m \u001b[0;34m=\u001b[0m \u001b[0;34m[\u001b[0m\u001b[0mnp\u001b[0m\u001b[0;34m.\u001b[0m\u001b[0marray\u001b[0m\u001b[0;34m(\u001b[0m\u001b[0m_m\u001b[0m\u001b[0;34m,\u001b[0m \u001b[0mcopy\u001b[0m\u001b[0;34m=\u001b[0m\u001b[0;32mFalse\u001b[0m\u001b[0;34m,\u001b[0m \u001b[0msubok\u001b[0m\u001b[0;34m=\u001b[0m\u001b[0msubok\u001b[0m\u001b[0;34m)\u001b[0m \u001b[0;32mfor\u001b[0m \u001b[0m_m\u001b[0m \u001b[0;32min\u001b[0m \u001b[0margs\u001b[0m\u001b[0;34m]\u001b[0m\u001b[0;34m\u001b[0m\u001b[0m\n\u001b[1;32m    248\u001b[0m \u001b[0;34m\u001b[0m\u001b[0m\n\u001b[0;32m--> 249\u001b[0;31m     \u001b[0mshape\u001b[0m \u001b[0;34m=\u001b[0m \u001b[0m_broadcast_shape\u001b[0m\u001b[0;34m(\u001b[0m\u001b[0;34m*\u001b[0m\u001b[0margs\u001b[0m\u001b[0;34m)\u001b[0m\u001b[0;34m\u001b[0m\u001b[0m\n\u001b[0m\u001b[1;32m    250\u001b[0m \u001b[0;34m\u001b[0m\u001b[0m\n\u001b[1;32m    251\u001b[0m     \u001b[0;32mif\u001b[0m \u001b[0mall\u001b[0m\u001b[0;34m(\u001b[0m\u001b[0marray\u001b[0m\u001b[0;34m.\u001b[0m\u001b[0mshape\u001b[0m \u001b[0;34m==\u001b[0m \u001b[0mshape\u001b[0m \u001b[0;32mfor\u001b[0m \u001b[0marray\u001b[0m \u001b[0;32min\u001b[0m \u001b[0margs\u001b[0m\u001b[0;34m)\u001b[0m\u001b[0;34m:\u001b[0m\u001b[0;34m\u001b[0m\u001b[0m\n",
      "\u001b[0;32m~/.pyenv/versions/anaconda3-5.1.0/lib/python3.6/site-packages/numpy/lib/stride_tricks.py\u001b[0m in \u001b[0;36m_broadcast_shape\u001b[0;34m(*args)\u001b[0m\n\u001b[1;32m    182\u001b[0m     \u001b[0;31m# use the old-iterator because np.nditer does not handle size 0 arrays\u001b[0m\u001b[0;34m\u001b[0m\u001b[0;34m\u001b[0m\u001b[0m\n\u001b[1;32m    183\u001b[0m     \u001b[0;31m# consistently\u001b[0m\u001b[0;34m\u001b[0m\u001b[0;34m\u001b[0m\u001b[0m\n\u001b[0;32m--> 184\u001b[0;31m     \u001b[0mb\u001b[0m \u001b[0;34m=\u001b[0m \u001b[0mnp\u001b[0m\u001b[0;34m.\u001b[0m\u001b[0mbroadcast\u001b[0m\u001b[0;34m(\u001b[0m\u001b[0;34m*\u001b[0m\u001b[0margs\u001b[0m\u001b[0;34m[\u001b[0m\u001b[0;34m:\u001b[0m\u001b[0;36m32\u001b[0m\u001b[0;34m]\u001b[0m\u001b[0;34m)\u001b[0m\u001b[0;34m\u001b[0m\u001b[0m\n\u001b[0m\u001b[1;32m    185\u001b[0m     \u001b[0;31m# unfortunately, it cannot handle 32 or more arguments directly\u001b[0m\u001b[0;34m\u001b[0m\u001b[0;34m\u001b[0m\u001b[0m\n\u001b[1;32m    186\u001b[0m     \u001b[0;32mfor\u001b[0m \u001b[0mpos\u001b[0m \u001b[0;32min\u001b[0m \u001b[0mrange\u001b[0m\u001b[0;34m(\u001b[0m\u001b[0;36m32\u001b[0m\u001b[0;34m,\u001b[0m \u001b[0mlen\u001b[0m\u001b[0;34m(\u001b[0m\u001b[0margs\u001b[0m\u001b[0;34m)\u001b[0m\u001b[0;34m,\u001b[0m \u001b[0;36m31\u001b[0m\u001b[0;34m)\u001b[0m\u001b[0;34m:\u001b[0m\u001b[0;34m\u001b[0m\u001b[0m\n",
      "\u001b[0;31mValueError\u001b[0m: shape mismatch: objects cannot be broadcast to a single shape"
     ]
    },
    {
     "data": {
      "image/png": "[encoded data removed]",
      "text/plain": [
       "<matplotlib.figure.Figure at 0x1120e9898>"
      ]
     },
     "metadata": {},
     "output_type": "display_data"
    }
   ],
   "source": [
    "fig = plt.figure()\n",
    "ax = fig.gca(projection='3d')\n",
    "surf = ax.plot_surface(X, Y, Z, rstride=1, cstride=1, cmap=cm.winter, linewidth=0, antialiased=True)\n",
    "ax.set_zlim(0, 900000)\n",
    "\n",
    "plt.show()"
   ]
  },
  {
   "cell_type": "code",
   "execution_count": null,
   "metadata": {
    "scrolled": true
   },
   "outputs": [],
   "source": [
    "\n",
    "\n",
    "\n"
   ]
  },
  {
   "cell_type": "markdown",
   "metadata": {},
   "source": [
    "- MC 학습하는 함수로 하나로 합치기  (agent를 class로 관리하기)\n",
    "\n",
    "- 3D plot 그리는 방법 다시 찾아보기\n",
    "\n",
    "- TD 구현하기\n",
    "\n",
    "- function approximation 구현하기\n"
   ]
  },
  {
   "cell_type": "code",
   "execution_count": null,
   "metadata": {},
   "outputs": [],
   "source": []
  },
  {
   "cell_type": "code",
   "execution_count": null,
   "metadata": {},
   "outputs": [],
   "source": []
  },
  {
   "cell_type": "code",
   "execution_count": null,
   "metadata": {},
   "outputs": [],
   "source": []
  },
  {
   "cell_type": "code",
   "execution_count": null,
   "metadata": {},
   "outputs": [],
   "source": []
  }
 ],
 "metadata": {
  "kernelspec": {
   "display_name": "Python 3",
   "language": "python",
   "name": "python3"
  },
  "language_info": {
   "codemirror_mode": {
    "name": "ipython",
    "version": 3
   },
   "file_extension": ".py",
   "mimetype": "text/x-python",
   "name": "python",
   "nbconvert_exporter": "python",
   "pygments_lexer": "ipython3",
   "version": "3.6.4"
  }
 },
 "nbformat": 4,
 "nbformat_minor": 2
}
